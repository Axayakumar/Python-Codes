{
 "cells": [
  {
   "cell_type": "code",
   "execution_count": 38,
   "metadata": {},
   "outputs": [
    {
     "data": {
      "text/plain": [
       "'C:\\\\Users\\\\Adinath\\\\Desktop\\\\Data_Science'"
      ]
     },
     "execution_count": 38,
     "metadata": {},
     "output_type": "execute_result"
    }
   ],
   "source": [
    "import os\n",
    "os.getcwd() #TO show current working directory\n",
    "#os.makedirs(\"C:\\\\myfolder\") #to create a new folder\n",
    "#os.listdir('C:/Users/Adinath/Desktop/Data_Science')# to check all content present in directory\n",
    "#os.chdir('D:\\\\myfolder')  #Change the working directory\n",
    "#os.rename('oldfile.txt', 'newfile.txt')"
   ]
  },
  {
   "cell_type": "markdown",
   "metadata": {},
   "source": [
    "Working with TXT document"
   ]
  },
  {
   "cell_type": "markdown",
   "metadata": {},
   "source": [
    "reading from a file"
   ]
  },
  {
   "cell_type": "code",
   "execution_count": 57,
   "metadata": {},
   "outputs": [],
   "source": [
    "#IO is a built in module in python which provides file handling operations\n",
    "import io\n",
    "f1 = open('C:/Users/Adinath/Desktop/Data_Science/akshay.txt', 'r')\n",
    "f1.read() #read full conetnt of file\n",
    "f1.readline() #Read single line\n",
    "f1.close()"
   ]
  },
  {
   "cell_type": "code",
   "execution_count": 60,
   "metadata": {},
   "outputs": [
    {
     "name": "stdout",
     "output_type": "stream",
     "text": [
      "this is first line\n",
      "\n",
      "this is second line\n",
      "\n",
      "i am akshay\n",
      "\n",
      "hcl\n"
     ]
    }
   ],
   "source": [
    "#to read all contents of file by liene by line\n",
    "f1 = open('C:/Users/Adinath/Desktop/Data_Science/akshay.txt', 'r')\n",
    "for line in f1:\n",
    "    print(line)\n",
    "f1.close()    "
   ]
  },
  {
   "cell_type": "markdown",
   "metadata": {},
   "source": [
    "Writing to a file"
   ]
  },
  {
   "cell_type": "code",
   "execution_count": 71,
   "metadata": {},
   "outputs": [],
   "source": [
    "newfile = open('C:/Users/Adinath/Desktop/Data_Science/akshay123.txt', mode='w', encoding='utf-8')\n",
    "newfile.write('i am working as a software engineer \\n')\n",
    "newfile.write('i am working in DFS project \\n')\n",
    "newfile.write('HCL ia a MNC company \\n')\n",
    "newfile.close()"
   ]
  },
  {
   "cell_type": "code",
   "execution_count": 72,
   "metadata": {},
   "outputs": [
    {
     "name": "stdout",
     "output_type": "stream",
     "text": [
      "i am working as a software engineer \n",
      "\n",
      "i am working in DFS project \n",
      "\n",
      "HCL ia a MNC company \n",
      "\n"
     ]
    }
   ],
   "source": [
    "newfile = open('C:/Users/Adinath/Desktop/Data_Science/akshay123.txt', 'r')\n",
    "for line in newfile:\n",
    "    print(line)\n",
    "newfile.close() "
   ]
  },
  {
   "cell_type": "code",
   "execution_count": 74,
   "metadata": {},
   "outputs": [
    {
     "data": {
      "text/plain": [
       "''"
      ]
     },
     "execution_count": 74,
     "metadata": {},
     "output_type": "execute_result"
    }
   ],
   "source": [
    "# How to write to file number of lines ata once\n",
    "list = ['i am a good boy \\n', 'my home is jamkhandi \\n', 'i stay in bnaglaore \\n']\n",
    "newfile = open('C:/Users/Adinath/Desktop/Data_Science/akshay123.txt', mode='a+', encoding='utf-8')\n",
    "newfile.writelines(list)\n",
    "newfile.read()"
   ]
  },
  {
   "cell_type": "code",
   "execution_count": 75,
   "metadata": {},
   "outputs": [
    {
     "name": "stdout",
     "output_type": "stream",
     "text": [
      "i am working as a software engineer \n",
      "\n",
      "i am working in DFS project \n",
      "\n",
      "HCL ia a MNC company \n",
      "\n",
      "i am a good boy \n",
      "\n",
      "my home is jamkhandi \n",
      "\n",
      "i stay in bnaglaore \n",
      "\n",
      "i am a good boy \n",
      "\n",
      "my home is jamkhandi \n",
      "\n",
      "i stay in bnaglaore \n",
      "\n"
     ]
    }
   ],
   "source": [
    "newfile = open('C:/Users/Adinath/Desktop/Data_Science/akshay123.txt', 'r')\n",
    "for line in newfile:\n",
    "    print(line)\n",
    "newfile.close() "
   ]
  },
  {
   "cell_type": "markdown",
   "metadata": {},
   "source": [
    "Working with Microsoft Word document"
   ]
  },
  {
   "cell_type": "code",
   "execution_count": 95,
   "metadata": {},
   "outputs": [],
   "source": [
    "#We use module called 'docx' to work with mocrosoft word documents\n",
    "\n",
    "#create instance of word documenrt\n",
    "import docx\n",
    "document = docx.Document() #to create instance 'document' we are invoking method 'Document'\n",
    "\n",
    "#add heading to the document\n",
    "document.add_heading('this is a level 0 heading', 0)\n",
    "\n",
    "#add paragraph to the word document\n",
    "document.add_paragraph('this is paragraph')\n",
    "doc.add_heading('p1')\n",
    "doc.add_heading('p2')\n",
    "doc.add_heading('p3')\n",
    "#Add pagebreak to the document\n",
    "document.add_page_break()\n",
    "\n",
    "#save tyhe document\n",
    "document.save('document.docx')  #Now the document.txt file is created"
   ]
  },
  {
   "cell_type": "code",
   "execution_count": 98,
   "metadata": {},
   "outputs": [
    {
     "name": "stdout",
     "output_type": "stream",
     "text": [
      "Printing whole contents of documents \n",
      "\n",
      "this is a level 0 heading\n",
      "this is paragraph\n",
      "\n",
      "\n"
     ]
    }
   ],
   "source": [
    "from docx import Document\n",
    "\n",
    "doc = docx.Document('document.docx')\n",
    "\n",
    "print('Printing whole contents of documents \\n')\n",
    "for para in doc.paragraphs:\n",
    "    print(para.text)"
   ]
  },
  {
   "cell_type": "code",
   "execution_count": null,
   "metadata": {},
   "outputs": [],
   "source": []
  },
  {
   "cell_type": "code",
   "execution_count": 244,
   "metadata": {},
   "outputs": [
    {
     "name": "stdout",
     "output_type": "stream",
     "text": [
      "hi\n",
      "hi\n",
      "hi\n",
      "hi\n"
     ]
    }
   ],
   "source": [
    "print('hi')\n",
    "print(\"hi\")\n",
    "print('''hi''')\n",
    "print(\"\"\"hi\"\"\")"
   ]
  },
  {
   "cell_type": "code",
   "execution_count": 16,
   "metadata": {},
   "outputs": [
    {
     "name": "stdout",
     "output_type": "stream",
     "text": [
      "Hello World!\n",
      "H\n",
      "llo\n",
      "llo World!\n",
      "Hello World!Hello World!\n",
      "Hello World!TEST\n"
     ]
    }
   ],
   "source": [
    "str = 'Hello World!' \n",
    "print (str)          # Prints complete string \n",
    "print (str[0])       # Prints first character of the string \n",
    "print (str[2:5])     # Prints characters starting from 3rd to 5th \n",
    "print (str[2:])      # Prints string starting from 3rd character \n",
    "print (str * 2)      # Prints string two times \n",
    "print (str + \"TEST\") # Prints concatenated string "
   ]
  },
  {
   "cell_type": "code",
   "execution_count": 112,
   "metadata": {},
   "outputs": [
    {
     "name": "stdout",
     "output_type": "stream",
     "text": [
      "Hello's world\n",
      "Hello's world\n",
      "Hello\"s world\n"
     ]
    }
   ],
   "source": [
    "x = \"Hello's world\"\n",
    "print(x)\n",
    "#we have to use escape charecter '\\' when using a single charecter inside single charecter & Double charecter inside DOuble charecter\n",
    "y = 'Hello\\'s world'\n",
    "print(y)\n",
    "z = \"Hello\\\"s world\"\n",
    "print(z)"
   ]
  },
  {
   "cell_type": "code",
   "execution_count": 118,
   "metadata": {},
   "outputs": [
    {
     "name": "stdout",
     "output_type": "stream",
     "text": [
      "akshay\n",
      "akshayakshayakshayakshayakshay\n"
     ]
    }
   ],
   "source": [
    "x = 'akshaykumar'\n",
    "print(x[0:6])\n",
    "print(x[0:6] * 5) #Prints akshay 100times"
   ]
  },
  {
   "cell_type": "code",
   "execution_count": 167,
   "metadata": {},
   "outputs": [
    {
     "name": "stdout",
     "output_type": "stream",
     "text": [
      "[0, 1, 2, 3, 4, 5, 6, 7, 8, 9, 10]\n",
      "[0, 1, 2, 3, 4]\n",
      "[0, 2, 4, 6]\n",
      "[0, 4, 8]\n",
      "[0, 4, 8]\n"
     ]
    }
   ],
   "source": [
    "a = [0,1,2,3,4,5,6,7,8,9,10]\n",
    "print(a)\n",
    "print(a[0:5]) #prints elements starting from 0 index to till 5 index\n",
    "print(a[0:8:2]) #prints elements starting from 0 index to till 5 index, and 2 interval numbers\n",
    "print(a[0:11:4]) #prints elements starting from 0 index to till 5 index, and 4 interval numbers\n",
    "#OR\n",
    "print(a[::4]) #prints elements starting from 0 index to till 5 index, and 4 interval numbers"
   ]
  },
  {
   "cell_type": "code",
   "execution_count": 176,
   "metadata": {},
   "outputs": [
    {
     "name": "stdout",
     "output_type": "stream",
     "text": [
      "[0, 1, 2, 3, 4, 5, 6, 7, 8, 9, 10]\n",
      " \n",
      "reverse order list is:-\n",
      "[10, 9, 8, 7, 6, 5, 4, 3, 2, 1, 0]\n"
     ]
    }
   ],
   "source": [
    "# TO get all the numbers in reverse in list\n",
    "a = [0,1,2,3,4,5,6,7,8,9,10]\n",
    "print(a)\n",
    "print(' \\nreverse order list is:-')\n",
    "print(a[::-1])"
   ]
  },
  {
   "cell_type": "code",
   "execution_count": 235,
   "metadata": {},
   "outputs": [
    {
     "name": "stdout",
     "output_type": "stream",
     "text": [
      "2020-05-23 00:57:02.916682\n",
      "2020\n",
      "2050-11-11 00:00:00\n",
      "19 June\n"
     ]
    }
   ],
   "source": [
    "import datetime\n",
    "a = datetime.datetime.now()\n",
    "print(a)\n",
    "a = datetime.datetime.now()\n",
    "print(a.year)\n",
    "a = datetime.datetime(2050,11,11)\n",
    "print(a)\n",
    "a = datetime.datetime(2020,6,19)\n",
    "print(a.strftime('%d'), a.strftime('%B'))"
   ]
  },
  {
   "cell_type": "code",
   "execution_count": null,
   "metadata": {},
   "outputs": [],
   "source": []
  },
  {
   "cell_type": "code",
   "execution_count": 221,
   "metadata": {},
   "outputs": [
    {
     "name": "stdout",
     "output_type": "stream",
     "text": [
      "0\n",
      "2\n",
      "4\n",
      "6\n",
      "8\n"
     ]
    }
   ],
   "source": [
    "#to print even numbers \n",
    "for i in range(10):\n",
    "    if i%2 == 0:\n",
    "        print(i)"
   ]
  },
  {
   "cell_type": "code",
   "execution_count": 222,
   "metadata": {},
   "outputs": [
    {
     "name": "stdout",
     "output_type": "stream",
     "text": [
      "1\n",
      "3\n",
      "5\n",
      "7\n",
      "9\n"
     ]
    }
   ],
   "source": [
    "#to print odd numbers \n",
    "for i in range(10):\n",
    "    if i%2 == 0:\n",
    "        print(i+1)"
   ]
  },
  {
   "cell_type": "markdown",
   "metadata": {},
   "source": [
    "9.\tWrite a program that prints the  umber from 1 to 25. but for multiple  of three print ’Fizz’ instead of the number and for the multiple of number 5 print ‘Buzz’, for numbers multiple of 3&5 print ‘FizzBuzz’."
   ]
  },
  {
   "cell_type": "code",
   "execution_count": 223,
   "metadata": {},
   "outputs": [
    {
     "name": "stdout",
     "output_type": "stream",
     "text": [
      "1\n",
      "2\n",
      "Fizz\n",
      "4\n",
      "Buzz\n",
      "Fizz\n",
      "7\n",
      "8\n",
      "Fizz\n",
      "Buzz\n",
      "11\n",
      "Fizz\n",
      "13\n",
      "14\n",
      "FizzBuzz\n",
      "16\n",
      "17\n",
      "Fizz\n",
      "19\n",
      "Buzz\n",
      "Fizz\n",
      "22\n",
      "23\n",
      "Fizz\n"
     ]
    }
   ],
   "source": [
    "for i in range(1,25):\n",
    "    if i%3 == 0 and i%5 == 0:\n",
    "        print('FizzBuzz')\n",
    "        continue\n",
    "    elif i%3 == 0:\n",
    "        print('Fizz')\n",
    "        continue\n",
    "    if i%5 == 0:\n",
    "        print('Buzz')\n",
    "        continue\n",
    "    print(i)"
   ]
  },
  {
   "cell_type": "code",
   "execution_count": 224,
   "metadata": {},
   "outputs": [
    {
     "name": "stdout",
     "output_type": "stream",
     "text": [
      "1\n",
      "2\n",
      "Fizz\n",
      "4\n",
      "Buzz\n",
      "Fizz\n",
      "7\n",
      "8\n",
      "Fizz\n",
      "Buzz\n",
      "11\n",
      "Fizz\n",
      "13\n",
      "14\n",
      "Fizz\n",
      "Buzz\n",
      "FizzBuzz\n",
      "16\n",
      "17\n",
      "Fizz\n",
      "19\n",
      "Buzz\n",
      "Fizz\n",
      "22\n",
      "23\n",
      "Fizz\n"
     ]
    }
   ],
   "source": [
    "#OR\n",
    "for i in range(1,25):\n",
    "    if i%3 != 0 and i%5 != 0:\n",
    "        print(i)\n",
    "    if i%3 == 0:\n",
    "        print('Fizz')\n",
    "    if i%5 == 0:\n",
    "        print('Buzz')\n",
    "    if i%3 == 0 and i%5 == 0:\n",
    "        print('FizzBuzz')"
   ]
  },
  {
   "cell_type": "code",
   "execution_count": 225,
   "metadata": {},
   "outputs": [
    {
     "name": "stdout",
     "output_type": "stream",
     "text": [
      "enter mobile number with country code: +919480241564\n",
      "BSNL MOBILE\n"
     ]
    }
   ],
   "source": [
    "# Get service provider name of any mobile number usning python\n",
    "\n",
    "import phonenumbers\n",
    "from phonenumbers import carrier\n",
    "mobileno = input(\"enter mobile number with country code: \")\n",
    "service_provider = phonenumbers.parse(mobileno)\n",
    "print(carrier.name_for_number(service_provider, 'en'))"
   ]
  },
  {
   "cell_type": "code",
   "execution_count": 181,
   "metadata": {},
   "outputs": [
    {
     "name": "stdout",
     "output_type": "stream",
     "text": [
      "please enter a number, enter zero(0) to exit\n",
      "number ?1\n",
      "sum is:  1.0\n",
      "number ?2\n",
      "sum is:  3.0\n",
      "number ?3\n",
      "sum is:  6.0\n",
      "number ?0\n",
      "sum is:  6.0\n",
      "finished sum\n"
     ]
    }
   ],
   "source": [
    "# TO print sum of number user entered unti he enter zero\n",
    "num = 1\n",
    "sum = 0\n",
    "print('please enter a number, enter zero(0) to exit')\n",
    "while num != 0:\n",
    "    num = float(input('number ?'))\n",
    "    sum = sum + num;\n",
    "    print('sum is: ', sum)\n",
    "else:\n",
    "    print('finished sum')"
   ]
  },
  {
   "cell_type": "markdown",
   "metadata": {},
   "source": [
    "## FOR LOOP"
   ]
  },
  {
   "cell_type": "code",
   "execution_count": 200,
   "metadata": {},
   "outputs": [
    {
     "name": "stdout",
     "output_type": "stream",
     "text": [
      "[0, 1, 2, 3, 4, 5]\n",
      "True\n",
      "False\n",
      "True\n"
     ]
    }
   ],
   "source": [
    "a = [0,1,2,3,4,5] #-List\n",
    "b = (0,1,2,3,4,5) #-Tuple\n",
    "c = (0,1,2,3,4,5) #-Set\n",
    "d = '012345'      #-String\n",
    "e = {'name':'akshay', 'age':25}   #-Dictionary\n",
    "print(a)\n",
    "print(0 in a)\n",
    "print(100 in a)\n",
    "print('1' in d)"
   ]
  },
  {
   "cell_type": "code",
   "execution_count": 202,
   "metadata": {},
   "outputs": [
    {
     "name": "stdout",
     "output_type": "stream",
     "text": [
      "0\n",
      "1\n",
      "2\n",
      "3\n",
      "4\n",
      "5\n"
     ]
    }
   ],
   "source": [
    "for i in a:\n",
    "    print(i)"
   ]
  },
  {
   "cell_type": "code",
   "execution_count": 203,
   "metadata": {},
   "outputs": [
    {
     "name": "stdout",
     "output_type": "stream",
     "text": [
      "0\n",
      "1\n",
      "2\n",
      "3\n",
      "4\n",
      "5\n"
     ]
    }
   ],
   "source": [
    "for i in b:\n",
    "    print(i)"
   ]
  },
  {
   "cell_type": "code",
   "execution_count": 220,
   "metadata": {},
   "outputs": [
    {
     "name": "stdout",
     "output_type": "stream",
     "text": [
      "name\n",
      "age\n",
      "\n",
      "keys are:-\n",
      "name\n",
      "age\n",
      "\n",
      "values are:-\n",
      "akshay\n",
      "25\n",
      "\n",
      "key & values are:-\n",
      "name  akshay\n",
      "age  25\n"
     ]
    }
   ],
   "source": [
    "for i in e:\n",
    "    print(i)\n",
    "print('\\nkeys are:-')\n",
    "for i in e.keys():\n",
    "    print(i)\n",
    "print('\\nvalues are:-')\n",
    "for i in e.values():\n",
    "    print(i) \n",
    "print('\\nkey & values are:-')\n",
    "for key, value in e.items():\n",
    "    print(key, '', value)     "
   ]
  },
  {
   "cell_type": "code",
   "execution_count": 222,
   "metadata": {},
   "outputs": [
    {
     "name": "stdout",
     "output_type": "stream",
     "text": [
      "0\n",
      "1\n",
      "2\n",
      "3\n",
      "4\n",
      "5\n"
     ]
    }
   ],
   "source": [
    "#print 0 to 5 values\n",
    "for x in range(6):\n",
    "    print(x)"
   ]
  },
  {
   "cell_type": "code",
   "execution_count": 224,
   "metadata": {},
   "outputs": [
    {
     "name": "stdout",
     "output_type": "stream",
     "text": [
      "3\n",
      "4\n",
      "5\n"
     ]
    }
   ],
   "source": [
    "#print 3 to index 6 values\n",
    "for x in range(3, 6):\n",
    "    print(x)"
   ]
  },
  {
   "cell_type": "code",
   "execution_count": 227,
   "metadata": {},
   "outputs": [
    {
     "name": "stdout",
     "output_type": "stream",
     "text": [
      "0\n",
      "5\n",
      "10\n",
      "15\n"
     ]
    }
   ],
   "source": [
    "#print 0 to 20 interval of 5\n",
    "for x in range(0,20,5):\n",
    "    print(x)"
   ]
  },
  {
   "cell_type": "code",
   "execution_count": 243,
   "metadata": {},
   "outputs": [
    {
     "name": "stdout",
     "output_type": "stream",
     "text": [
      "0\n",
      "1\n",
      "2\n"
     ]
    }
   ],
   "source": [
    "# Bresk statement --> it will skip loop when specified value is true\n",
    "a = [0,1,2,3,4,5]\n",
    "for x in a:\n",
    "    if x == 3:\n",
    "        break\n",
    "    print(x)"
   ]
  },
  {
   "cell_type": "code",
   "execution_count": 245,
   "metadata": {},
   "outputs": [
    {
     "name": "stdout",
     "output_type": "stream",
     "text": [
      "0\n",
      "1\n",
      "2\n",
      "4\n",
      "5\n",
      "===================\n",
      "1\n",
      "2\n",
      "4\n",
      "5\n"
     ]
    }
   ],
   "source": [
    "# Continue statement --> It will skip specified value\n",
    "a = [0,1,2,3,4,5]\n",
    "for x in a:\n",
    "    if x == 3:\n",
    "        continue\n",
    "    print(x)\n",
    "print('===================')\n",
    "z = 0\n",
    "while z < 5:\n",
    "    z += 1\n",
    "    if z == 3:\n",
    "        continue\n",
    "    print(z)   "
   ]
  },
  {
   "cell_type": "markdown",
   "metadata": {},
   "source": [
    "### Regular Expression in Python"
   ]
  },
  {
   "cell_type": "code",
   "execution_count": 237,
   "metadata": {},
   "outputs": [
    {
     "name": "stdout",
     "output_type": "stream",
     "text": [
      "<re.Match object; span=(0, 1), match='a'>\n",
      "None\n"
     ]
    }
   ],
   "source": [
    "import re\n",
    "print(re.match('a' , 'akshaykumar'))\n",
    "print(re.match('b' , 'akshaykumar'))"
   ]
  },
  {
   "cell_type": "code",
   "execution_count": 243,
   "metadata": {},
   "outputs": [
    {
     "name": "stdout",
     "output_type": "stream",
     "text": [
      "None\n"
     ]
    }
   ],
   "source": [
    "m = re.search('\\bopen\\b', 'please open the door')\n",
    "print(m)"
   ]
  },
  {
   "cell_type": "code",
   "execution_count": null,
   "metadata": {},
   "outputs": [],
   "source": []
  },
  {
   "cell_type": "markdown",
   "metadata": {},
   "source": [
    "## LISTS"
   ]
  },
  {
   "cell_type": "code",
   "execution_count": 52,
   "metadata": {},
   "outputs": [
    {
     "data": {
      "text/plain": [
       "list"
      ]
     },
     "execution_count": 52,
     "metadata": {},
     "output_type": "execute_result"
    }
   ],
   "source": [
    "empty_list = []\n",
    "type(empty_list)"
   ]
  },
  {
   "cell_type": "code",
   "execution_count": 53,
   "metadata": {},
   "outputs": [
    {
     "name": "stdout",
     "output_type": "stream",
     "text": [
      "['Stark', 'Targaryen', 'Lannister', 'Baratheon']\n"
     ]
    }
   ],
   "source": [
    "houses = ['Stark', 'Targaryen', 'Lannister', 'Baratheon']\n",
    "print (houses) "
   ]
  },
  {
   "cell_type": "code",
   "execution_count": 126,
   "metadata": {},
   "outputs": [
    {
     "data": {
      "text/plain": [
       "[4, 6, 'akshay', 'abhi', 5.5, 4.6789]"
      ]
     },
     "execution_count": 126,
     "metadata": {},
     "output_type": "execute_result"
    }
   ],
   "source": [
    "# We can have multiple datatype element sin list\n",
    "list = [4,6, 'akshay', 'abhi', 5.5, 4.6789]\n",
    "list"
   ]
  },
  {
   "cell_type": "code",
   "execution_count": 54,
   "metadata": {},
   "outputs": [
    {
     "name": "stdout",
     "output_type": "stream",
     "text": [
      "[1, 2, 'i love wtaching series videos']\n"
     ]
    }
   ],
   "source": [
    "season1 = 1\n",
    "season2 = 2\n",
    "videos = 'i love wtaching series videos'\n",
    "info = [season1,season2,videos]\n",
    "print(info)"
   ]
  },
  {
   "cell_type": "code",
   "execution_count": 251,
   "metadata": {},
   "outputs": [
    {
     "name": "stdout",
     "output_type": "stream",
     "text": [
      "0 Red\n",
      "1 Green\n",
      "2 Black\n",
      "3 Blue\n"
     ]
    }
   ],
   "source": [
    "List = ['Red', 'Green', 'Black', 'Blue']\n",
    "for i in range(len(List)):\n",
    "    print(i, List[i])"
   ]
  },
  {
   "cell_type": "code",
   "execution_count": 256,
   "metadata": {},
   "outputs": [
    {
     "name": "stdout",
     "output_type": "stream",
     "text": [
      "0 Red\n",
      "1 Green\n",
      "2 Black\n",
      "3 Blue\n"
     ]
    }
   ],
   "source": [
    "#Enumerating a List\n",
    "#With the help of Python enumerate function, we can iterate over the index and value in a Python list by using a basic for loop. Let us see how:\n",
    "list = ['Red', 'Green', 'Black', 'Blue']\n",
    "for i, j in enumerate(list):\n",
    "    print(i, j)"
   ]
  },
  {
   "cell_type": "code",
   "execution_count": 257,
   "metadata": {},
   "outputs": [
    {
     "name": "stdout",
     "output_type": "stream",
     "text": [
      "{0: 'Red', 1: 'Green', 2: 'Black', 3: 'Blue'}\n"
     ]
    }
   ],
   "source": [
    "#With the help of enumerate, we can create a Python Dictionary out of a list very easily.\n",
    "list = ['Red', 'Green', 'Black', 'Blue']\n",
    "Dict= dict(enumerate(List))\n",
    "print(Dict)"
   ]
  },
  {
   "cell_type": "code",
   "execution_count": 258,
   "metadata": {},
   "outputs": [
    {
     "name": "stdout",
     "output_type": "stream",
     "text": [
      "0 10 Red\n",
      "1 5 Green\n",
      "2 8 Black\n",
      "3 2 Blue\n"
     ]
    }
   ],
   "source": [
    "#Enumerating a List of Tuples\n",
    "#Example:\n",
    "\n",
    "List1 = [(10,'Red'), (5,'Green'), (8,'Black'),(2,'Blue')]\n",
    "for idx, (count, color) in enumerate(List1):\n",
    "    print(idx, count, color)"
   ]
  },
  {
   "cell_type": "code",
   "execution_count": 265,
   "metadata": {},
   "outputs": [
    {
     "name": "stdout",
     "output_type": "stream",
     "text": [
      "0 A\n",
      "1 k\n",
      "2 s\n",
      "3 h\n",
      "4 a\n",
      "5 y\n",
      "\n",
      "1 A\n",
      "2 k\n",
      "3 s\n",
      "4 h\n",
      "5 a\n",
      "6 y\n"
     ]
    }
   ],
   "source": [
    "#Enumeratinf a string\n",
    "string = 'Akshay'\n",
    "for i, j in enumerate(string):\n",
    "    print(i, j)\n",
    "\n",
    "print('')    \n",
    "#Enumerating from a Specific Index    \n",
    "string = 'Akshay'\n",
    "for i, j in enumerate(string, 1):\n",
    "    print(i, j)"
   ]
  },
  {
   "cell_type": "code",
   "execution_count": 55,
   "metadata": {},
   "outputs": [
    {
     "data": {
      "text/plain": [
       "['a', 'e', 'i', 'o', 'u']"
      ]
     },
     "execution_count": 55,
     "metadata": {},
     "output_type": "execute_result"
    }
   ],
   "source": [
    "list('aeiou')"
   ]
  },
  {
   "cell_type": "code",
   "execution_count": 56,
   "metadata": {},
   "outputs": [
    {
     "name": "stdout",
     "output_type": "stream",
     "text": [
      "['a', 'e', 'i', 'o', 'u', 11, 22, 33]\n"
     ]
    }
   ],
   "source": [
    "print(['a', 'e', 'i', 'o', 'u'] + [11, 22, 33])"
   ]
  },
  {
   "cell_type": "code",
   "execution_count": 58,
   "metadata": {},
   "outputs": [
    {
     "name": "stdout",
     "output_type": "stream",
     "text": [
      "['Akshay', 'Abhi', 'Akshay', 'Abhi', 'Akshay', 'Abhi']\n"
     ]
    }
   ],
   "source": [
    "Names = ['Akshay', 'Abhi']\n",
    "print(Names*3)"
   ]
  },
  {
   "cell_type": "code",
   "execution_count": 67,
   "metadata": {},
   "outputs": [
    {
     "name": "stdout",
     "output_type": "stream",
     "text": [
      "apples\n",
      "bananas\n",
      "bananas\n",
      "['apples']\n",
      "[]\n",
      "['grapes', 'oranges', 'mangoes']\n"
     ]
    }
   ],
   "source": [
    "#Indexing and Slicing \n",
    "basket = [\"apples\", \"grapes\", \"oranges\", \"mangoes\", \"bananas\"]\n",
    "print(basket[0])\n",
    "print(basket[4])\n",
    "print(basket[-1])\n",
    "print(basket[0:1])\n",
    "print(basket[1:1])\n",
    "print(basket[1:4])"
   ]
  },
  {
   "cell_type": "markdown",
   "metadata": {},
   "source": [
    "#Nesting\n",
    "Lists can be nested i.e., you can have list within list. Items of nested lists (list of lists) can be accessed by multiple indexing."
   ]
  },
  {
   "cell_type": "code",
   "execution_count": 69,
   "metadata": {},
   "outputs": [
    {
     "name": "stdout",
     "output_type": "stream",
     "text": [
      "Tyrion\n",
      "Arya\n"
     ]
    }
   ],
   "source": [
    "characters = [ ['Cercie', 'Jammie', 'Tyrion'], ['Arya', 'Rob', 'Bran'] ] \n",
    "print(characters [0][2] )\n",
    "print(characters [1][0])"
   ]
  },
  {
   "cell_type": "markdown",
   "metadata": {},
   "source": [
    "##Lists are mutable\n",
    "Unlike strings, lists are a mutable, i.e. item of a list can be changed."
   ]
  },
  {
   "cell_type": "code",
   "execution_count": 72,
   "metadata": {},
   "outputs": [
    {
     "name": "stdout",
     "output_type": "stream",
     "text": [
      "[0, 11, 99, 33, 44, 55]\n",
      "[0, 11, 99, 300, 400, 55]\n",
      "[0, 300, 400, 55]\n"
     ]
    }
   ],
   "source": [
    "nums = [0, 11, 22, 33, 44, 55] \n",
    "nums[2] =99\n",
    "print(nums)\n",
    "nums [3:5] = [300, 400]\n",
    "print(nums)\n",
    "nums [1:3] = []\n",
    "print(nums)"
   ]
  },
  {
   "cell_type": "code",
   "execution_count": null,
   "metadata": {},
   "outputs": [],
   "source": [
    "#del statement\n",
    "Just as del statement deletes a variable, it can delete item(s) from a list."
   ]
  },
  {
   "cell_type": "code",
   "execution_count": 73,
   "metadata": {},
   "outputs": [
    {
     "name": "stdout",
     "output_type": "stream",
     "text": [
      "[22, 44, 66, 88]\n",
      "[22, 88]\n"
     ]
    },
    {
     "ename": "NameError",
     "evalue": "name 'even_nums' is not defined",
     "output_type": "error",
     "traceback": [
      "\u001b[1;31m---------------------------------------------------------------------------\u001b[0m",
      "\u001b[1;31mNameError\u001b[0m                                 Traceback (most recent call last)",
      "\u001b[1;32m<ipython-input-73-9817f06df668>\u001b[0m in \u001b[0;36m<module>\u001b[1;34m\u001b[0m\n\u001b[0;32m      5\u001b[0m \u001b[0mprint\u001b[0m\u001b[1;33m(\u001b[0m\u001b[0meven_nums\u001b[0m\u001b[1;33m)\u001b[0m\u001b[1;33m\u001b[0m\u001b[1;33m\u001b[0m\u001b[0m\n\u001b[0;32m      6\u001b[0m \u001b[1;32mdel\u001b[0m \u001b[0meven_nums\u001b[0m\u001b[1;33m\u001b[0m\u001b[1;33m\u001b[0m\u001b[0m\n\u001b[1;32m----> 7\u001b[1;33m \u001b[0mprint\u001b[0m\u001b[1;33m(\u001b[0m\u001b[0meven_nums\u001b[0m\u001b[1;33m)\u001b[0m\u001b[1;33m\u001b[0m\u001b[1;33m\u001b[0m\u001b[0m\n\u001b[0m",
      "\u001b[1;31mNameError\u001b[0m: name 'even_nums' is not defined"
     ]
    }
   ],
   "source": [
    "even_nums = [22, 44, 55, 66, 88]\n",
    "del  even_nums[2] \n",
    "print(even_nums)\n",
    "del even_nums[1:3]\n",
    "print(even_nums)\n",
    "del even_nums\n",
    "print(even_nums)"
   ]
  },
  {
   "cell_type": "markdown",
   "metadata": {},
   "source": [
    "#in and not operators \n",
    "These check if an item belongs to a given list and return either True or False (boolean type)."
   ]
  },
  {
   "cell_type": "code",
   "execution_count": 79,
   "metadata": {},
   "outputs": [
    {
     "name": "stdout",
     "output_type": "stream",
     "text": [
      "True\n",
      "False\n",
      "True\n"
     ]
    }
   ],
   "source": [
    "bag_of_words = [\"include\", \"reverse\", \"response\", \"lazy\"] \n",
    "print('include' in bag_of_words )\n",
    "print('path' in bag_of_words )\n",
    "bag_of_words = [\"include\", \"reverse\", \"response\", \"lazy\"]\n",
    "print('render' not in bag_of_words)"
   ]
  },
  {
   "cell_type": "code",
   "execution_count": 81,
   "metadata": {},
   "outputs": [
    {
     "name": "stdout",
     "output_type": "stream",
     "text": [
      "5\n",
      "1704\n"
     ]
    }
   ],
   "source": [
    "#len() and sum()\n",
    "prime_nums = [2, 3, 5, 7, 11]\n",
    "print(len(prime_nums))\n",
    "x = [951, 753]\n",
    "print(sum(x)) "
   ]
  },
  {
   "cell_type": "markdown",
   "metadata": {},
   "source": [
    "#Strings and Lists\n",
    "str.split() \n",
    "Strings can be directly casted into a list using list() constructor. A better option is to use str.split() method which is more flexible than list() constructor."
   ]
  },
  {
   "cell_type": "code",
   "execution_count": 85,
   "metadata": {},
   "outputs": [
    {
     "name": "stdout",
     "output_type": "stream",
     "text": [
      "['U', 'n', 'b', 'o', 'w', 'e', 'd', ' ', 'U', 'n', 'b', 'e', 'n', 't', ' ', 'U', 'n', 'b', 'r', 'o', 'k', 'e', 'n']\n",
      "['Unbowed', 'Unbent', 'Unbroken']\n"
     ]
    }
   ],
   "source": [
    "martell = 'Unbowed Unbent Unbroken' \n",
    "print(list (martell))\n",
    "print(martell.split())"
   ]
  },
  {
   "cell_type": "code",
   "execution_count": 87,
   "metadata": {},
   "outputs": [
    {
     "name": "stdout",
     "output_type": "stream",
     "text": [
      "['127.0.0.1']\n",
      "['127', '0', '0', '1']\n"
     ]
    }
   ],
   "source": [
    "local_host = '127.0.0.1' \n",
    "print(local_host.split())\n",
    "print( local_host.split('.'))"
   ]
  },
  {
   "cell_type": "code",
   "execution_count": 93,
   "metadata": {},
   "outputs": [
    {
     "name": "stdout",
     "output_type": "stream",
     "text": [
      "['abc@gmail.com', 'xyz@yahoo.com']\n",
      "['abc', 'gmail.com xyz', 'yahoo.com']\n",
      "['Humanxafterxall']\n",
      "['Human', 'after', 'all']\n"
     ]
    }
   ],
   "source": [
    "emails = 'abc@gmail.com xyz@yahoo.com' \n",
    "print(emails.split())\n",
    "print(emails.split('@'))\n",
    "message = 'Humanxafterxall'\n",
    "print(message.split())\n",
    "print(message.split('x'))"
   ]
  },
  {
   "cell_type": "code",
   "execution_count": null,
   "metadata": {},
   "outputs": [],
   "source": [
    "#str.join() \n",
    "It returns a string that is created by joining a list of strings on a particular character."
   ]
  },
  {
   "cell_type": "code",
   "execution_count": 100,
   "metadata": {},
   "outputs": [
    {
     "name": "stdout",
     "output_type": "stream",
     "text": [
      "MakeMeCrazy\n",
      "Make Me Crazy\n",
      "Make#Me#Crazy\n",
      "Make_Me_Crazy\n"
     ]
    }
   ],
   "source": [
    "x = ['Make', 'Me', 'Crazy'] \n",
    "print(''.join (x) )\n",
    "print(' '.join (x))\n",
    "print('#'.join (x) )\n",
    "print( '_'.join (x))"
   ]
  },
  {
   "cell_type": "code",
   "execution_count": 102,
   "metadata": {},
   "outputs": [
    {
     "name": "stdout",
     "output_type": "stream",
     "text": [
      "['too', 'often', 'the', 'only', 'escape', 'is', 'sleep']\n",
      "too_often_the_only_escape_is_sleep\n"
     ]
    }
   ],
   "source": [
    "s = 'too often the only escape is sleep'\n",
    "m = s.split()\n",
    "print(m)\n",
    "x = '_'.join (m)\n",
    "print(x)"
   ]
  },
  {
   "cell_type": "markdown",
   "metadata": {},
   "source": [
    "## List methods"
   ]
  },
  {
   "cell_type": "code",
   "execution_count": 103,
   "metadata": {},
   "outputs": [
    {
     "name": "stdout",
     "output_type": "stream",
     "text": [
      "['CSE', 'ECE', 'IT']\n"
     ]
    }
   ],
   "source": [
    "#list.append (x) :- It adds an item at the end of the list.\n",
    "branches = ['CSE', 'ECE'] \n",
    "branches.append('IT') \n",
    "print(branches)"
   ]
  },
  {
   "cell_type": "markdown",
   "metadata": {},
   "source": [
    "#list.copy ()\n",
    "It returns a shallow (new) copy of the list. It is equivalent to x[:]"
   ]
  },
  {
   "cell_type": "markdown",
   "metadata": {},
   "source": [
    "#list.count (x) \n",
    "It returns the number of times an item appears in the list"
   ]
  },
  {
   "cell_type": "code",
   "execution_count": 1,
   "metadata": {},
   "outputs": [
    {
     "data": {
      "text/plain": [
       "2"
      ]
     },
     "execution_count": 1,
     "metadata": {},
     "output_type": "execute_result"
    }
   ],
   "source": [
    "score_card = [14, 35, 4, 68, 14, 36, 88, 35] \n",
    "score_card.count (14) "
   ]
  },
  {
   "cell_type": "markdown",
   "metadata": {},
   "source": [
    "#list.extend (iterable) \n",
    "It appends all the items from an iterable to the list one by one. Iterable is an object that is capable of returning its members one at a time, all sequence types like lists, str are iterable."
   ]
  },
  {
   "cell_type": "code",
   "execution_count": 3,
   "metadata": {},
   "outputs": [
    {
     "name": "stdout",
     "output_type": "stream",
     "text": [
      "['Stark', 'T', 'a', 'r', 'g', 'a', 'r', 'y', 'e', 'n']\n",
      "['Stark']\n",
      "['Stark', 'Targaryen']\n",
      "['Stark', 'Targaryen', ['Lannister', 'Baratheon', 'Mormont']]\n",
      "['Stark', 'Targaryen']\n",
      "['Stark', 'Targaryen', 'Lannister', 'Baratheon', 'Mormont']\n"
     ]
    }
   ],
   "source": [
    "houses = ['Stark'] \n",
    "houses.extend('Targaryen') \n",
    "print(houses)\n",
    "del houses[1:]\n",
    "print(houses)\n",
    "houses.append('Targaryen') \n",
    "print(houses)\n",
    "x = ['Lannister', 'Baratheon', 'Mormont']\n",
    "houses.append (x)\n",
    "print(houses)\n",
    "del houses[2] \n",
    "print(houses)\n",
    "houses.extend (x)\n",
    "print(houses)"
   ]
  },
  {
   "cell_type": "markdown",
   "metadata": {},
   "source": [
    "#list.index (item)\n",
    "It returns the index of first instance of an item in the list."
   ]
  },
  {
   "cell_type": "code",
   "execution_count": 4,
   "metadata": {},
   "outputs": [
    {
     "data": {
      "text/plain": [
       "1"
      ]
     },
     "execution_count": 4,
     "metadata": {},
     "output_type": "execute_result"
    }
   ],
   "source": [
    "house_arryn = ['Jon', 'Lysa', 'Robert'] \n",
    "house_arryn.index ('Lysa') "
   ]
  },
  {
   "cell_type": "markdown",
   "metadata": {},
   "source": [
    "#list.insert (i, x) \n",
    "It adds an item at a particular index to a list."
   ]
  },
  {
   "cell_type": "code",
   "execution_count": 5,
   "metadata": {},
   "outputs": [
    {
     "name": "stdout",
     "output_type": "stream",
     "text": [
      "['Eddard', 'Catelyn', 'Robb', 'Sansa', 'Arya', 'Bran']\n"
     ]
    }
   ],
   "source": [
    "house_stark = ['Eddard', 'Catelyn', 'Robb', 'Arya', 'Bran'] \n",
    "house_stark.insert(3, 'Sansa')\n",
    "print(house_stark)"
   ]
  },
  {
   "cell_type": "markdown",
   "metadata": {},
   "source": [
    "LIST.remove() #removes the girst element from the list\n",
    "\n",
    "LIST.remove('name') #Removes the element which having name 'name'\n",
    "\n",
    "LIST.POP()   #Removes the last element from the list\n",
    "\n",
    "LIST.clear()  #Removes all values from list\n",
    "\n",
    "LIST.count(10)  #Returns the number of '10' value counts from list"
   ]
  },
  {
   "cell_type": "code",
   "execution_count": 122,
   "metadata": {},
   "outputs": [
    {
     "data": {
      "text/plain": [
       "[1, 2, 3]"
      ]
     },
     "execution_count": 122,
     "metadata": {},
     "output_type": "execute_result"
    }
   ],
   "source": [
    "#Creating copy of list\n",
    "x = [1,2,3]\n",
    "y = x.copy()\n",
    "y"
   ]
  },
  {
   "cell_type": "markdown",
   "metadata": {},
   "source": [
    "#list.pop (i) \n",
    "It removes item from a specific index. If no argument is passed, removes the last item from list and the removed item is returned."
   ]
  },
  {
   "cell_type": "code",
   "execution_count": 8,
   "metadata": {},
   "outputs": [
    {
     "name": "stdout",
     "output_type": "stream",
     "text": [
      "['Mace', 'Olenna', 'Margaery']\n",
      "Olenna\n",
      "['Mace', 'Margaery']\n"
     ]
    }
   ],
   "source": [
    "house_tyrell = ['Mace', 'Olenna', 'Margaery', 'Loras'] \n",
    "house_tyrell.pop () \n",
    "print(house_tyrell)\n",
    "removed_name = house_tyrell.pop (1) \n",
    "print(removed_name)\n",
    "print(house_tyrell)"
   ]
  },
  {
   "cell_type": "markdown",
   "metadata": {},
   "source": [
    "#list.remove (x) \n",
    "It removes the item passed as argument and returns nothing. In Python, None object refers to nothing."
   ]
  },
  {
   "cell_type": "code",
   "execution_count": 9,
   "metadata": {},
   "outputs": [
    {
     "name": "stdout",
     "output_type": "stream",
     "text": [
      "None\n",
      "<class 'NoneType'>\n",
      "['Balon', 'Yara']\n"
     ]
    }
   ],
   "source": [
    "house_greyjoy = ['Balon', 'Theon', 'Yara'] \n",
    "removed_name = house_greyjoy.remove ('Theon') \n",
    "print(removed_name)\n",
    "print(type(removed_name))\n",
    "print(house_greyjoy)"
   ]
  },
  {
   "cell_type": "markdown",
   "metadata": {},
   "source": [
    "#list.reverse () \n",
    "It reverses the order of items in a list. This method is inplace i.e., its effect is reflected to the original list as soon as it is called. None object is returned by this method."
   ]
  },
  {
   "cell_type": "code",
   "execution_count": 11,
   "metadata": {},
   "outputs": [
    {
     "name": "stdout",
     "output_type": "stream",
     "text": [
      "['Robert', 'Stannis', 'Renly']\n",
      "['Renly', 'Stannis', 'Robert']\n"
     ]
    }
   ],
   "source": [
    "house_baratheon = ['Robert', 'Stannis', 'Renly'] \n",
    "print(house_baratheon)\n",
    "house_baratheon.reverse() \n",
    "print(house_baratheon)"
   ]
  },
  {
   "cell_type": "markdown",
   "metadata": {},
   "source": [
    "#list.sort () \n",
    "It sorts a numeric list in ascending order and a string list in alphabetical order. This method is also inplace and returns nothing."
   ]
  },
  {
   "cell_type": "code",
   "execution_count": 15,
   "metadata": {},
   "outputs": [
    {
     "name": "stdout",
     "output_type": "stream",
     "text": [
      "['Canada', 'China', 'France', 'Spain', 'Turkey']\n",
      "[11, 22, 33, 99]\n"
     ]
    }
   ],
   "source": [
    "countries = ['Spain', 'Canada', 'France', 'Turkey', 'China'] \n",
    "countries.sort()\n",
    "print(countries)\n",
    "nums = [33, 11, 22, 99] \n",
    "nums.sort () \n",
    "print(nums)"
   ]
  },
  {
   "cell_type": "markdown",
   "metadata": {},
   "source": [
    "## ARRAYS"
   ]
  },
  {
   "cell_type": "markdown",
   "metadata": {},
   "source": [
    " An array is a data structure that can contain or hold a fixed number of elements that are of the same Python data type.\n",
    "\n",
    " Difference between Array and List in Python\n",
    "\n",
    "The basic difference between arrays and lists in Python is that lists are flexible and can hold completely arbitrary data of any data type while arrays can only hold data of the same data type.\n",
    "\n",
    "Arrays are considered useful in terms of memory efficiency, but they are usually slower than lists."
   ]
  },
  {
   "cell_type": "code",
   "execution_count": null,
   "metadata": {},
   "outputs": [],
   "source": []
  },
  {
   "cell_type": "code",
   "execution_count": null,
   "metadata": {},
   "outputs": [],
   "source": []
  },
  {
   "cell_type": "markdown",
   "metadata": {},
   "source": [
    "## Tuples: "
   ]
  },
  {
   "cell_type": "markdown",
   "metadata": {},
   "source": [
    "#Immutable lists\n",
    "#tuple, which is very similar to list data type. Unlike lists, tuples are immutable i.e., you can’t modify the value of an item, once you’ve created a tuple of items"
   ]
  },
  {
   "cell_type": "code",
   "execution_count": 20,
   "metadata": {},
   "outputs": [
    {
     "name": "stdout",
     "output_type": "stream",
     "text": [
      "()\n",
      "<class 'str'>\n",
      "<class 'tuple'>\n"
     ]
    }
   ],
   "source": [
    "empty_tuple = ()\n",
    "print(empty_tuple)\n",
    "x = 'akshay'\n",
    "print(type(x))\n",
    "x = 'akshay',   #Given comma after strong\n",
    "print(type(x))"
   ]
  },
  {
   "cell_type": "code",
   "execution_count": 123,
   "metadata": {},
   "outputs": [
    {
     "data": {
      "text/plain": [
       "(5, 'akshay', 5.5)"
      ]
     },
     "execution_count": 123,
     "metadata": {},
     "output_type": "execute_result"
    }
   ],
   "source": [
    "#we can have multiple datatype values in tuple\n",
    "y =(5, 'akshay', 5.5)\n",
    "y"
   ]
  },
  {
   "cell_type": "code",
   "execution_count": 128,
   "metadata": {},
   "outputs": [
    {
     "data": {
      "text/plain": [
       "(1, 2, 3, 4, 5, 5, 'akshay', 5.5)"
      ]
     },
     "execution_count": 128,
     "metadata": {},
     "output_type": "execute_result"
    }
   ],
   "source": [
    "# we can create tuple concating other tuples\n",
    "x = (1,2,3,4,5)\n",
    "y =(5, 'akshay', 5.5)\n",
    "z = x + y\n",
    "z"
   ]
  },
  {
   "cell_type": "code",
   "execution_count": 129,
   "metadata": {},
   "outputs": [
    {
     "data": {
      "text/plain": [
       "('hi', 'hi', 'hi', 'hi', 'hi')"
      ]
     },
     "execution_count": 129,
     "metadata": {},
     "output_type": "execute_result"
    }
   ],
   "source": [
    "a = ('hi',)*5\n",
    "a"
   ]
  },
  {
   "cell_type": "code",
   "execution_count": 131,
   "metadata": {},
   "outputs": [
    {
     "ename": "NameError",
     "evalue": "name 'a' is not defined",
     "output_type": "error",
     "traceback": [
      "\u001b[1;31m---------------------------------------------------------------------------\u001b[0m",
      "\u001b[1;31mNameError\u001b[0m                                 Traceback (most recent call last)",
      "\u001b[1;32m<ipython-input-131-565bd3cf88b5>\u001b[0m in \u001b[0;36m<module>\u001b[1;34m\u001b[0m\n\u001b[0;32m      1\u001b[0m \u001b[1;31m#to delete tuple\u001b[0m\u001b[1;33m\u001b[0m\u001b[1;33m\u001b[0m\u001b[1;33m\u001b[0m\u001b[0m\n\u001b[1;32m----> 2\u001b[1;33m \u001b[1;32mdel\u001b[0m \u001b[0ma\u001b[0m\u001b[1;33m\u001b[0m\u001b[1;33m\u001b[0m\u001b[0m\n\u001b[0m\u001b[0;32m      3\u001b[0m \u001b[0ma\u001b[0m\u001b[1;33m\u001b[0m\u001b[1;33m\u001b[0m\u001b[0m\n",
      "\u001b[1;31mNameError\u001b[0m: name 'a' is not defined"
     ]
    }
   ],
   "source": [
    "#to delete tuple \n",
    "del a\n",
    "a"
   ]
  },
  {
   "cell_type": "code",
   "execution_count": 21,
   "metadata": {},
   "outputs": [
    {
     "ename": "TypeError",
     "evalue": "'tuple' object does not support item assignment",
     "output_type": "error",
     "traceback": [
      "\u001b[1;31m---------------------------------------------------------------------------\u001b[0m",
      "\u001b[1;31mTypeError\u001b[0m                                 Traceback (most recent call last)",
      "\u001b[1;32m<ipython-input-21-c3dfa1b82ea7>\u001b[0m in \u001b[0;36m<module>\u001b[1;34m\u001b[0m\n\u001b[0;32m      1\u001b[0m \u001b[1;31m#Tuple are immutable -we cananot alter tuple once created\u001b[0m\u001b[1;33m\u001b[0m\u001b[1;33m\u001b[0m\u001b[1;33m\u001b[0m\u001b[0m\n\u001b[0;32m      2\u001b[0m \u001b[0mmy_tuple\u001b[0m \u001b[1;33m=\u001b[0m \u001b[1;33m(\u001b[0m\u001b[1;36m11\u001b[0m\u001b[1;33m,\u001b[0m \u001b[1;36m22\u001b[0m\u001b[1;33m,\u001b[0m \u001b[1;36m33\u001b[0m\u001b[1;33m,\u001b[0m \u001b[1;36m44\u001b[0m\u001b[1;33m,\u001b[0m \u001b[1;36m55\u001b[0m\u001b[1;33m,\u001b[0m \u001b[1;36m66\u001b[0m\u001b[1;33m)\u001b[0m\u001b[1;33m\u001b[0m\u001b[1;33m\u001b[0m\u001b[0m\n\u001b[1;32m----> 3\u001b[1;33m \u001b[0mmy_tuple\u001b[0m\u001b[1;33m[\u001b[0m\u001b[1;36m3\u001b[0m\u001b[1;33m]\u001b[0m \u001b[1;33m=\u001b[0m \u001b[1;36m99\u001b[0m\u001b[1;33m\u001b[0m\u001b[1;33m\u001b[0m\u001b[0m\n\u001b[0m",
      "\u001b[1;31mTypeError\u001b[0m: 'tuple' object does not support item assignment"
     ]
    }
   ],
   "source": [
    "#Tuple are immutable -we cananot alter tuple once created\n",
    "my_tuple = (11, 22, 33, 44, 55, 66)\n",
    "my_tuple[3] = 99"
   ]
  },
  {
   "cell_type": "code",
   "execution_count": 22,
   "metadata": {},
   "outputs": [
    {
     "name": "stdout",
     "output_type": "stream",
     "text": [
      "(1, 2, 3)\n"
     ]
    }
   ],
   "source": [
    "list = [1,2,3]\n",
    "tuple = tuple(list)\n",
    "print(tuple)"
   ]
  },
  {
   "cell_type": "code",
   "execution_count": 25,
   "metadata": {},
   "outputs": [
    {
     "name": "stdout",
     "output_type": "stream",
     "text": [
      "('one', '2', 'three')\n",
      "<class 'tuple'>\n",
      "one 2 three\n"
     ]
    }
   ],
   "source": [
    "# Sometimes items are not enclosed in (), which is referred to as tuple packing and reverse process as tuple unpacking.\n",
    "# tuple packing \n",
    "x = 'one', '2', 'three'\n",
    "print(x)\n",
    "print(type(x))\n",
    "\n",
    "# tuple unpacking\n",
    "a, b, c = x\n",
    "print (a, b, c) "
   ]
  },
  {
   "cell_type": "markdown",
   "metadata": {},
   "source": [
    "1. Concatenation and Replication"
   ]
  },
  {
   "cell_type": "code",
   "execution_count": 27,
   "metadata": {},
   "outputs": [
    {
     "data": {
      "text/plain": [
       "('a', 'e', 'i', 'o', 'u', 11, 22, 33)"
      ]
     },
     "execution_count": 27,
     "metadata": {},
     "output_type": "execute_result"
    }
   ],
   "source": [
    "('a', 'e', 'i', 'o', 'u') + (11, 22, 33) "
   ]
  },
  {
   "cell_type": "code",
   "execution_count": 28,
   "metadata": {},
   "outputs": [
    {
     "name": "stdout",
     "output_type": "stream",
     "text": [
      "('Harry', 'Potter', 'Harry', 'Potter', 'Harry', 'Potter')\n"
     ]
    }
   ],
   "source": [
    "a = ('Harry', 'Potter') \n",
    "print(a*3)"
   ]
  },
  {
   "cell_type": "markdown",
   "metadata": {},
   "source": [
    "2. Indexing and Slicing \n",
    "Tuple items can be accessed by indexing or unpacking."
   ]
  },
  {
   "cell_type": "code",
   "execution_count": 32,
   "metadata": {},
   "outputs": [
    {
     "name": "stdout",
     "output_type": "stream",
     "text": [
      "apples\n",
      "bananas\n",
      "('oranges', 'mangoes', 'bananas')\n",
      "bananas\n"
     ]
    }
   ],
   "source": [
    "basket = (\"apples\", \"grapes\", \"oranges\", \"mangoes\", \"bananas\")\n",
    "print(basket [0])\n",
    "print(basket [-1])\n",
    "print(basket [2:5])\n",
    "print(basket [4])"
   ]
  },
  {
   "cell_type": "markdown",
   "metadata": {},
   "source": [
    "2.1 Nesting"
   ]
  },
  {
   "cell_type": "code",
   "execution_count": 34,
   "metadata": {},
   "outputs": [
    {
     "name": "stdout",
     "output_type": "stream",
     "text": [
      "Tyrion\n",
      "Arya\n"
     ]
    }
   ],
   "source": [
    "characters = ( ('Cercie', 'Jammie', 'Tyrion'), ('Arya', 'Rob', 'Bran') ) \n",
    "print(characters [0][2]) \n",
    "print( characters [1][0])"
   ]
  },
  {
   "cell_type": "markdown",
   "metadata": {},
   "source": [
    "#Tuple methods\n",
    "Tuples have only two methods tuple.count() and tuple.index(). tuple.count(): Returns number of occurrences of an item. \n",
    "tuple.index(): Returns index of first instance of an item"
   ]
  },
  {
   "cell_type": "code",
   "execution_count": 38,
   "metadata": {},
   "outputs": [
    {
     "name": "stdout",
     "output_type": "stream",
     "text": [
      "2\n",
      "1\n"
     ]
    }
   ],
   "source": [
    "house_targaryen = ('Daenerys', 'Viserys', 'Aerys') \n",
    "print(house_targaryen.index('Aerys'))\n",
    "print(house_targaryen.count('Daenerys'))"
   ]
  },
  {
   "cell_type": "markdown",
   "metadata": {},
   "source": [
    "## Dictionary"
   ]
  },
  {
   "cell_type": "markdown",
   "metadata": {},
   "source": [
    "- A Dictionary is a set of key-value pairs, with the requirement that the keys are unique. These are also called as associative arrays or Hash tables in other programming languages.\n",
    "- dictionary are list of pairs\n",
    "- A dictionary is a comma-separated list of key:value pairs enclosed within curly braces {}. A value can be accessed by calling the key of that particular value like my_dict[key], if key is not present, KeyError is thrown.\n",
    "-  Dictionaries are mutable. All mappings are mutable objects, as dictionaries are the only built-in mapping type in Python, they can be modified.\n",
    "-  Dictionaries are unordered objects. Unlike sequence types, dictionaries don’t preserve order of its items. A dictionary is an associative array, where keys are mapped to their values.\n"
   ]
  },
  {
   "cell_type": "code",
   "execution_count": 42,
   "metadata": {},
   "outputs": [
    {
     "name": "stdout",
     "output_type": "stream",
     "text": [
      "{}\n",
      "{'name': 'Yigrette', 'allegiance': 'Free Folk', 'season': 2}\n",
      "Yigrette\n"
     ]
    },
    {
     "ename": "NameError",
     "evalue": "name 'name' is not defined",
     "output_type": "error",
     "traceback": [
      "\u001b[1;31m---------------------------------------------------------------------------\u001b[0m",
      "\u001b[1;31mNameError\u001b[0m                                 Traceback (most recent call last)",
      "\u001b[1;32m<ipython-input-42-164953e4493f>\u001b[0m in \u001b[0;36m<module>\u001b[1;34m\u001b[0m\n\u001b[0;32m      4\u001b[0m \u001b[0mprint\u001b[0m\u001b[1;33m(\u001b[0m\u001b[0mginger\u001b[0m\u001b[1;33m)\u001b[0m\u001b[1;33m\u001b[0m\u001b[1;33m\u001b[0m\u001b[0m\n\u001b[0;32m      5\u001b[0m \u001b[0mprint\u001b[0m\u001b[1;33m(\u001b[0m\u001b[0mginger\u001b[0m\u001b[1;33m[\u001b[0m\u001b[1;34m\"name\"\u001b[0m\u001b[1;33m]\u001b[0m\u001b[1;33m)\u001b[0m\u001b[1;33m\u001b[0m\u001b[1;33m\u001b[0m\u001b[0m\n\u001b[1;32m----> 6\u001b[1;33m \u001b[0mprint\u001b[0m\u001b[1;33m(\u001b[0m\u001b[0mginger\u001b[0m\u001b[1;33m[\u001b[0m\u001b[0mname\u001b[0m\u001b[1;33m]\u001b[0m\u001b[1;33m)\u001b[0m \u001b[1;31m#name is string not variable\u001b[0m\u001b[1;33m\u001b[0m\u001b[1;33m\u001b[0m\u001b[0m\n\u001b[0m",
      "\u001b[1;31mNameError\u001b[0m: name 'name' is not defined"
     ]
    }
   ],
   "source": [
    "empty_dict = {}\n",
    "print(empty_dict)\n",
    "ginger = {'name': 'Yigrette', 'allegiance': 'Free Folk', 'season': 2}\n",
    "print(ginger)\n",
    "print(ginger[\"name\"])\n",
    "print(ginger[name]) #name is string not variable"
   ]
  },
  {
   "cell_type": "code",
   "execution_count": 45,
   "metadata": {},
   "outputs": [
    {
     "name": "stdout",
     "output_type": "stream",
     "text": [
      "{'origin': 'Casterly Rock', 'title': 'Master of Coin', 'age': 38}\n",
      "{'origin': 'Casterly Rock', 'title': 'Hand of the Queen', 'age': 38}\n",
      "{'title': 'Hand of the Queen', 'age': 38}\n"
     ]
    }
   ],
   "source": [
    "#Dictionaries are mutable\n",
    "tyrion = {'origin': 'Casterly Rock', 'title': 'Master of Coin'} \n",
    "tyrion ['age'] = 38\n",
    "print(tyrion)\n",
    "tyrion ['title'] = 'Hand of the Queen'\n",
    "print(tyrion)\n",
    "del tyrion ['origin']\n",
    "print(tyrion)"
   ]
  },
  {
   "cell_type": "code",
   "execution_count": 46,
   "metadata": {},
   "outputs": [
    {
     "name": "stdout",
     "output_type": "stream",
     "text": [
      "[1, 2, 3]\n"
     ]
    }
   ],
   "source": [
    "factors = {6: [1,2,3], 8: [1,2,4]} \n",
    "print(factors [6] )"
   ]
  },
  {
   "cell_type": "code",
   "execution_count": 47,
   "metadata": {},
   "outputs": [
    {
     "ename": "TypeError",
     "evalue": "unhashable type: 'list'",
     "output_type": "error",
     "traceback": [
      "\u001b[1;31m---------------------------------------------------------------------------\u001b[0m",
      "\u001b[1;31mTypeError\u001b[0m                                 Traceback (most recent call last)",
      "\u001b[1;32m<ipython-input-47-58aa79a69c39>\u001b[0m in \u001b[0;36m<module>\u001b[1;34m\u001b[0m\n\u001b[1;32m----> 1\u001b[1;33m \u001b[0mlcm\u001b[0m \u001b[1;33m=\u001b[0m \u001b[1;33m{\u001b[0m\u001b[1;33m[\u001b[0m\u001b[1;36m1\u001b[0m\u001b[1;33m,\u001b[0m\u001b[1;36m2\u001b[0m\u001b[1;33m,\u001b[0m\u001b[1;36m3\u001b[0m\u001b[1;33m]\u001b[0m\u001b[1;33m:\u001b[0m \u001b[1;36m6\u001b[0m\u001b[1;33m,\u001b[0m \u001b[1;33m[\u001b[0m\u001b[1;36m1\u001b[0m\u001b[1;33m,\u001b[0m\u001b[1;36m2\u001b[0m\u001b[1;33m,\u001b[0m\u001b[1;36m4\u001b[0m\u001b[1;33m]\u001b[0m\u001b[1;33m:\u001b[0m \u001b[1;36m8\u001b[0m\u001b[1;33m}\u001b[0m\u001b[1;33m\u001b[0m\u001b[1;33m\u001b[0m\u001b[0m\n\u001b[0m",
      "\u001b[1;31mTypeError\u001b[0m: unhashable type: 'list'"
     ]
    }
   ],
   "source": [
    "lcm = {[1,2,3]: 6, [1,2,4]: 8}"
   ]
  },
  {
   "cell_type": "code",
   "execution_count": 50,
   "metadata": {},
   "outputs": [
    {
     "data": {
      "text/plain": [
       "6"
      ]
     },
     "execution_count": 50,
     "metadata": {},
     "output_type": "execute_result"
    }
   ],
   "source": [
    "lcm = {(1,2,3): 6, (1,2,4): 8}\n",
    "lcm[(1,2,3)]        "
   ]
  },
  {
   "cell_type": "markdown",
   "metadata": {},
   "source": [
    "#Dictionary methods"
   ]
  },
  {
   "cell_type": "markdown",
   "metadata": {},
   "source": [
    "1. dict.clear () \n",
    "Empty your dictionary with this method."
   ]
  },
  {
   "cell_type": "code",
   "execution_count": 53,
   "metadata": {},
   "outputs": [
    {
     "name": "stdout",
     "output_type": "stream",
     "text": [
      "{'house': 'Tyrell', 'title': 'Queen of thorns'}\n",
      "{}\n"
     ]
    }
   ],
   "source": [
    "ollena = {'house': 'Tyrell', 'title': 'Queen of thorns'} \n",
    "print(ollena)\n",
    "ollena.clear()\n",
    "print(ollena)"
   ]
  },
  {
   "cell_type": "markdown",
   "metadata": {},
   "source": [
    "#dict.copy () \n",
    "It returns a shallow (new) copy of the dictionary."
   ]
  },
  {
   "cell_type": "markdown",
   "metadata": {},
   "source": [
    "#dict.get (key) \n",
    "If key is in the dictionary, it returns its corresponding value. If key is not present, instead of raising KeyError, it returns nothing."
   ]
  },
  {
   "cell_type": "code",
   "execution_count": 55,
   "metadata": {},
   "outputs": [
    {
     "name": "stdout",
     "output_type": "stream",
     "text": [
      "MC13x\n",
      "None\n"
     ]
    }
   ],
   "source": [
    "my_device = {'RAM': '3 GB', 'model name': 'MC13x'} \n",
    "print(my_device.get('model name')) \n",
    "print(my_device.get('baseband version'))"
   ]
  },
  {
   "cell_type": "markdown",
   "metadata": {},
   "source": [
    "#dict.pop (key) \n",
    "It remove a specified key and returns the corresponding value."
   ]
  },
  {
   "cell_type": "code",
   "execution_count": 58,
   "metadata": {},
   "outputs": [
    {
     "name": "stdout",
     "output_type": "stream",
     "text": [
      "1\n",
      "{'two': 2, 'three': 3}\n"
     ]
    },
    {
     "ename": "KeyError",
     "evalue": "'four'",
     "output_type": "error",
     "traceback": [
      "\u001b[1;31m---------------------------------------------------------------------------\u001b[0m",
      "\u001b[1;31mKeyError\u001b[0m                                  Traceback (most recent call last)",
      "\u001b[1;32m<ipython-input-58-f066e903a219>\u001b[0m in \u001b[0;36m<module>\u001b[1;34m\u001b[0m\n\u001b[0;32m      2\u001b[0m \u001b[0mprint\u001b[0m\u001b[1;33m(\u001b[0m\u001b[0mnums\u001b[0m\u001b[1;33m.\u001b[0m\u001b[0mpop\u001b[0m \u001b[1;33m(\u001b[0m\u001b[1;34m'one'\u001b[0m\u001b[1;33m)\u001b[0m\u001b[1;33m)\u001b[0m\u001b[1;33m\u001b[0m\u001b[1;33m\u001b[0m\u001b[0m\n\u001b[0;32m      3\u001b[0m \u001b[0mprint\u001b[0m\u001b[1;33m(\u001b[0m\u001b[0mnums\u001b[0m\u001b[1;33m)\u001b[0m\u001b[1;33m\u001b[0m\u001b[1;33m\u001b[0m\u001b[0m\n\u001b[1;32m----> 4\u001b[1;33m \u001b[0mnums\u001b[0m\u001b[1;33m.\u001b[0m\u001b[0mpop\u001b[0m \u001b[1;33m(\u001b[0m\u001b[1;34m'four'\u001b[0m\u001b[1;33m)\u001b[0m\u001b[1;33m\u001b[0m\u001b[1;33m\u001b[0m\u001b[0m\n\u001b[0m",
      "\u001b[1;31mKeyError\u001b[0m: 'four'"
     ]
    }
   ],
   "source": [
    "nums = {'one': 1, 'two': 2, 'three': 3}\n",
    "print(nums.pop ('one')) \n",
    "print(nums)\n",
    "nums.pop ('four')"
   ]
  },
  {
   "cell_type": "markdown",
   "metadata": {},
   "source": [
    "## SETS"
   ]
  },
  {
   "cell_type": "markdown",
   "metadata": {},
   "source": [
    "-  A set is an unordered collection of unique elements. \n",
    "- sets dont preserve order\n",
    "- sets doesnot have duplicate value\n",
    "- sets doesnot have indexing\n",
    "- empty pair of curly braces {} creates a dictionary not a set. If you want to instantiate an empty set object use set() constructor.\n",
    "- Sets are mutable"
   ]
  },
  {
   "cell_type": "code",
   "execution_count": 133,
   "metadata": {},
   "outputs": [
    {
     "name": "stdout",
     "output_type": "stream",
     "text": [
      "{33, 11, 44, 22}\n"
     ]
    }
   ],
   "source": [
    "a = {11, 22, 33, 44, 22, 22, 11}\n",
    "print(a) \n",
    "# sets dont preserve order\n",
    "# it removes duplicate values and keep only unique values"
   ]
  },
  {
   "cell_type": "code",
   "execution_count": 149,
   "metadata": {},
   "outputs": [
    {
     "data": {
      "text/plain": [
       "{1, 2, 5.5, 'abhi', 'akshay'}"
      ]
     },
     "execution_count": 149,
     "metadata": {},
     "output_type": "execute_result"
    }
   ],
   "source": [
    "# we can have any type of elements in set\n",
    "b = {1,2, 'akshay', 5.5, 2, 'abhi'}\n",
    "b"
   ]
  },
  {
   "cell_type": "code",
   "execution_count": 144,
   "metadata": {},
   "outputs": [
    {
     "name": "stdout",
     "output_type": "stream",
     "text": [
      "{11, 55}\n",
      "{11, 15, 16, 18, 55}\n",
      "{11, 15, 16, 55}\n",
      "{11, 15, 16, 55}\n",
      "{11, 16, 55}\n",
      "set()\n"
     ]
    },
    {
     "ename": "NameError",
     "evalue": "name 'a' is not defined",
     "output_type": "error",
     "traceback": [
      "\u001b[1;31m---------------------------------------------------------------------------\u001b[0m",
      "\u001b[1;31mNameError\u001b[0m                                 Traceback (most recent call last)",
      "\u001b[1;32m<ipython-input-144-e42446444067>\u001b[0m in \u001b[0;36m<module>\u001b[1;34m\u001b[0m\n\u001b[0;32m     14\u001b[0m \u001b[0mprint\u001b[0m\u001b[1;33m(\u001b[0m\u001b[0ma\u001b[0m\u001b[1;33m)\u001b[0m\u001b[1;33m\u001b[0m\u001b[1;33m\u001b[0m\u001b[0m\n\u001b[0;32m     15\u001b[0m \u001b[1;32mdel\u001b[0m \u001b[0ma\u001b[0m\u001b[1;33m\u001b[0m\u001b[1;33m\u001b[0m\u001b[0m\n\u001b[1;32m---> 16\u001b[1;33m \u001b[0mprint\u001b[0m\u001b[1;33m(\u001b[0m\u001b[0ma\u001b[0m\u001b[1;33m)\u001b[0m\u001b[1;33m\u001b[0m\u001b[1;33m\u001b[0m\u001b[0m\n\u001b[0m",
      "\u001b[1;31mNameError\u001b[0m: name 'a' is not defined"
     ]
    }
   ],
   "source": [
    "a.add(55) #it will add 55 to set\n",
    "a.add(11)  #as 11 is already existed in set it will not add 11 \n",
    "print(a)\n",
    "a.update([15,16,18])\n",
    "print(a)\n",
    "a.remove(18) #it reoves element 18 from set\n",
    "print(a)\n",
    "a.discard(17)  #it works like remove and reoves element 17 from set\n",
    "print(a)\n",
    "#Difference betweetn remove and discard is whenever element which we try to remove is not present in set it will throw error, but discard will nt thow error\n",
    "a.pop()  # It will remove any random element from set\n",
    "print(a)\n",
    "a.clear()   #removes all elements from set\n",
    "print(a)\n",
    "del a\n",
    "print(a)  #Delete set"
   ]
  },
  {
   "cell_type": "code",
   "execution_count": 145,
   "metadata": {},
   "outputs": [
    {
     "data": {
      "text/plain": [
       "{'abhi', 'akshay', 'srey'}"
      ]
     },
     "execution_count": 145,
     "metadata": {},
     "output_type": "execute_result"
    }
   ],
   "source": [
    "# we can also create set like\n",
    "name = set(('akshay', 'abhi', 'srey'))\n",
    "name"
   ]
  },
  {
   "cell_type": "code",
   "execution_count": 147,
   "metadata": {},
   "outputs": [
    {
     "data": {
      "text/plain": [
       "{3, 4, 6, 7}"
      ]
     },
     "execution_count": 147,
     "metadata": {},
     "output_type": "execute_result"
    }
   ],
   "source": [
    "# we can create set from list\n",
    "z = set([3,4,6,7])\n",
    "z"
   ]
  },
  {
   "cell_type": "code",
   "execution_count": 158,
   "metadata": {},
   "outputs": [
    {
     "ename": "TypeError",
     "evalue": "'set' object is not subscriptable",
     "output_type": "error",
     "traceback": [
      "\u001b[1;31m---------------------------------------------------------------------------\u001b[0m",
      "\u001b[1;31mTypeError\u001b[0m                                 Traceback (most recent call last)",
      "\u001b[1;32m<ipython-input-158-6c0d5900fd95>\u001b[0m in \u001b[0;36m<module>\u001b[1;34m\u001b[0m\n\u001b[0;32m      1\u001b[0m \u001b[1;31m#index is not possibke in sets, because sets are unordered collection of eements\u001b[0m\u001b[1;33m\u001b[0m\u001b[1;33m\u001b[0m\u001b[1;33m\u001b[0m\u001b[0m\n\u001b[1;32m----> 2\u001b[1;33m \u001b[0mz\u001b[0m\u001b[1;33m[\u001b[0m\u001b[1;36m0\u001b[0m\u001b[1;33m]\u001b[0m\u001b[1;33m\u001b[0m\u001b[1;33m\u001b[0m\u001b[0m\n\u001b[0m",
      "\u001b[1;31mTypeError\u001b[0m: 'set' object is not subscriptable"
     ]
    }
   ],
   "source": [
    "#index is not possibke in sets, because sets are unordered collection of eements\n",
    "z[0]"
   ]
  },
  {
   "cell_type": "code",
   "execution_count": 156,
   "metadata": {},
   "outputs": [
    {
     "name": "stdout",
     "output_type": "stream",
     "text": [
      "{1, 2, 3, 4, 5, 6, 7, 8, 9, 10}\n",
      "{5, 6}\n",
      "{1, 2, 3, 4}\n"
     ]
    }
   ],
   "source": [
    "# we can perform mathematical operations on set\n",
    "set1 = {1,2,3,4,5,6}\n",
    "set2 = {5,6,7,8,9,10}\n",
    "#Union\n",
    "union = set1 | set2  #or set1.union(set2)\n",
    "print(union)\n",
    "#intersection\n",
    "intersect = set1 & set2 #or set1.intersection(set2)\n",
    "print(intersect)\n",
    "#difference\n",
    "print(set1 - set2)   #or set1.difference(set2)"
   ]
  },
  {
   "cell_type": "code",
   "execution_count": 63,
   "metadata": {},
   "outputs": [
    {
     "name": "stdout",
     "output_type": "stream",
     "text": [
      "{12, 13, 14, 15, 16}\n",
      "{'green', 'black', 'brown', 'blue'}\n",
      "{'Red', 'Woman'}\n"
     ]
    }
   ],
   "source": [
    "age_set = {14, 16, 12, 16, 13, 14, 15, 13} \n",
    "print(age_set)\n",
    "eye_color_list = ['black', 'brown', 'black', 'blue', 'green', 'brown'] \n",
    "distinct_eye_colors = set(eye_color_list)\n",
    "print(distinct_eye_colors)\n",
    "set('Floccinaucinihilipilification')\n",
    "print(set(('Red', 'Woman')))"
   ]
  },
  {
   "cell_type": "markdown",
   "metadata": {},
   "source": [
    "## FUNCTIONS\n",
    "- function is a group of statements within a program that performs a specific task\n",
    "- Functions are of 2 types\n",
    "    - Built in functions  (ex: print(), min(), input()) - function do a single task at a time\n",
    "    - user defined functions\n",
    "    \n",
    "- using function we can test & debug code easily"
   ]
  },
  {
   "cell_type": "code",
   "execution_count": 254,
   "metadata": {},
   "outputs": [
    {
     "name": "stdout",
     "output_type": "stream",
     "text": [
      "6\n",
      "4.0\n",
      "hello world\n"
     ]
    },
    {
     "ename": "TypeError",
     "evalue": "unsupported operand type(s) for +: 'int' and 'str'",
     "output_type": "error",
     "traceback": [
      "\u001b[1;31m---------------------------------------------------------------------------\u001b[0m",
      "\u001b[1;31mTypeError\u001b[0m                                 Traceback (most recent call last)",
      "\u001b[1;32m<ipython-input-254-96dcdd5a2e1c>\u001b[0m in \u001b[0;36m<module>\u001b[1;34m\u001b[0m\n\u001b[0;32m      5\u001b[0m \u001b[0msum\u001b[0m\u001b[1;33m(\u001b[0m\u001b[1;36m2.5\u001b[0m\u001b[1;33m,\u001b[0m \u001b[1;36m1.5\u001b[0m\u001b[1;33m)\u001b[0m\u001b[1;33m\u001b[0m\u001b[1;33m\u001b[0m\u001b[0m\n\u001b[0;32m      6\u001b[0m \u001b[0msum\u001b[0m\u001b[1;33m(\u001b[0m\u001b[1;34m'hello '\u001b[0m\u001b[1;33m,\u001b[0m \u001b[1;34m'world'\u001b[0m\u001b[1;33m)\u001b[0m\u001b[1;33m\u001b[0m\u001b[1;33m\u001b[0m\u001b[0m\n\u001b[1;32m----> 7\u001b[1;33m \u001b[0msum\u001b[0m\u001b[1;33m(\u001b[0m\u001b[1;36m2\u001b[0m\u001b[1;33m,\u001b[0m \u001b[1;34m'akahay'\u001b[0m\u001b[1;33m)\u001b[0m\u001b[1;33m\u001b[0m\u001b[1;33m\u001b[0m\u001b[0m\n\u001b[0m",
      "\u001b[1;32m<ipython-input-254-96dcdd5a2e1c>\u001b[0m in \u001b[0;36msum\u001b[1;34m(arg1, arg2)\u001b[0m\n\u001b[0;32m      1\u001b[0m \u001b[1;32mdef\u001b[0m \u001b[0msum\u001b[0m\u001b[1;33m(\u001b[0m\u001b[0marg1\u001b[0m\u001b[1;33m,\u001b[0m \u001b[0marg2\u001b[0m\u001b[1;33m)\u001b[0m\u001b[1;33m:\u001b[0m\u001b[1;33m\u001b[0m\u001b[1;33m\u001b[0m\u001b[0m\n\u001b[1;32m----> 2\u001b[1;33m     \u001b[0mprint\u001b[0m\u001b[1;33m(\u001b[0m\u001b[0marg1\u001b[0m \u001b[1;33m+\u001b[0m \u001b[0marg2\u001b[0m\u001b[1;33m)\u001b[0m\u001b[1;33m\u001b[0m\u001b[1;33m\u001b[0m\u001b[0m\n\u001b[0m\u001b[0;32m      3\u001b[0m \u001b[1;33m\u001b[0m\u001b[0m\n\u001b[0;32m      4\u001b[0m \u001b[0msum\u001b[0m\u001b[1;33m(\u001b[0m\u001b[1;36m2\u001b[0m\u001b[1;33m,\u001b[0m\u001b[1;36m4\u001b[0m\u001b[1;33m)\u001b[0m\u001b[1;33m\u001b[0m\u001b[1;33m\u001b[0m\u001b[0m\n\u001b[0;32m      5\u001b[0m \u001b[0msum\u001b[0m\u001b[1;33m(\u001b[0m\u001b[1;36m2.5\u001b[0m\u001b[1;33m,\u001b[0m \u001b[1;36m1.5\u001b[0m\u001b[1;33m)\u001b[0m\u001b[1;33m\u001b[0m\u001b[1;33m\u001b[0m\u001b[0m\n",
      "\u001b[1;31mTypeError\u001b[0m: unsupported operand type(s) for +: 'int' and 'str'"
     ]
    }
   ],
   "source": [
    "def sum(arg1, arg2):\n",
    "    print(arg1 + arg2)\n",
    "\n",
    "sum(2,4)\n",
    "sum(2.5, 1.5)\n",
    "sum('hello ', 'world')\n",
    "sum(2, 'akahay')"
   ]
  },
  {
   "cell_type": "code",
   "execution_count": 277,
   "metadata": {},
   "outputs": [
    {
     "name": "stdout",
     "output_type": "stream",
     "text": [
      "6\n",
      "7.132\n",
      "hello world\n",
      "please provide args of same type\n"
     ]
    }
   ],
   "source": [
    "#when summing twi different data types number and char we get error to handle that  \n",
    "def sum(arg1, arg2):\n",
    "    if type(arg1) != type(arg2):\n",
    "        print('please provide args of same type')\n",
    "        return\n",
    "    print(arg1 + arg2)\n",
    "        \n",
    "\n",
    "sum(2,4)\n",
    "sum(2.566,4.566)\n",
    "sum('hello ', 'world')\n",
    "sum(2, 'akahay')"
   ]
  },
  {
   "cell_type": "code",
   "execution_count": 282,
   "metadata": {},
   "outputs": [
    {
     "name": "stdout",
     "output_type": "stream",
     "text": [
      "6\n",
      "2.566 4.566\n",
      "hello world\n",
      "please provide args of same type\n"
     ]
    }
   ],
   "source": [
    "def sum(arg1, arg2):\n",
    "    if type(arg1) != type(arg2):\n",
    "        print('please provide args of same type')\n",
    "        return\n",
    "    return (arg1 + arg2)\n",
    "#when we are using return statement for output then we need to call variable tp store function output or print function output\n",
    "\n",
    "a = sum(2, 4)\n",
    "print(a)\n",
    "print(2.566,4.566)\n",
    "print(sum('hello ', 'world'))\n",
    "sum(2, 'akahay')"
   ]
  },
  {
   "cell_type": "code",
   "execution_count": 286,
   "metadata": {},
   "outputs": [
    {
     "name": "stdout",
     "output_type": "stream",
     "text": [
      "name is = akshay\n",
      "age is =  25\n",
      "marks are = (90, 95, 96, 98)\n",
      "90\n",
      "95\n",
      "96\n",
      "98\n"
     ]
    }
   ],
   "source": [
    "# * -> Asteric in Function\n",
    "# using Asteric symbol we can pass any number of values for that argument\n",
    "def student(name = 'unknown name', age = 0, *marks):\n",
    "    print('name is =', name)\n",
    "    print('age is = ', age)\n",
    "    print('marks are =', marks)   #stored marks as tuple\n",
    "    for i in marks:\n",
    "        print(i)\n",
    "\n",
    "student('akshay', 25, 90,95,96,98)        "
   ]
  },
  {
   "cell_type": "code",
   "execution_count": 294,
   "metadata": {},
   "outputs": [
    {
     "name": "stdout",
     "output_type": "stream",
     "text": [
      "name is = akshay\n",
      "age is =  25\n",
      "marks are = {'maths': 90, 'english': 95, 'science': 96, 'history': 98}\n",
      "maths\n",
      "english\n",
      "science\n",
      "history\n",
      "\n",
      "key value pair are: \n",
      "maths   90\n",
      "english   95\n",
      "science   96\n",
      "history   98\n"
     ]
    }
   ],
   "source": [
    "# ** -> Double Asteric in Function\n",
    "# using Asteric symbol we can pass any number of values for that argument and also assign key vale pair\n",
    "def student(name = 'unknown name', age = 0, **marks):\n",
    "    print('name is =', name)\n",
    "    print('age is = ', age)\n",
    "    print('marks are =', marks)   #stored marks as tuple\n",
    "    for i in marks:\n",
    "        print(i)\n",
    "    print('\\nkey value pair are: ')    \n",
    "    for key, value in marks.items():\n",
    "        print(key, ' ', value)\n",
    "\n",
    "student('akshay', 25, maths=90, english=95, science=96, history=98)        "
   ]
  },
  {
   "cell_type": "code",
   "execution_count": null,
   "metadata": {},
   "outputs": [],
   "source": []
  },
  {
   "cell_type": "code",
   "execution_count": null,
   "metadata": {},
   "outputs": [],
   "source": []
  },
  {
   "cell_type": "code",
   "execution_count": 246,
   "metadata": {},
   "outputs": [
    {
     "name": "stdout",
     "output_type": "stream",
     "text": [
      "Welcome akshay\n"
     ]
    }
   ],
   "source": [
    "def greet_me(name):\n",
    "    print('Welcome %s' %name)\n",
    "    \n",
    "name = 'akshay'\n",
    "greet_me(name)          "
   ]
  },
  {
   "cell_type": "code",
   "execution_count": 76,
   "metadata": {},
   "outputs": [
    {
     "name": "stdout",
     "output_type": "stream",
     "text": [
      "Welcome hcl technologies\n"
     ]
    }
   ],
   "source": [
    "def greet_me(name):\n",
    "    print(f'Welcome {name}')\n",
    "\n",
    "name = 'hcl technologies'\n",
    "greet_me(name)          "
   ]
  },
  {
   "cell_type": "code",
   "execution_count": 79,
   "metadata": {},
   "outputs": [
    {
     "name": "stdout",
     "output_type": "stream",
     "text": [
      "10 is even\n",
      "11 is odd\n"
     ]
    }
   ],
   "source": [
    "def even_odd(num):\n",
    "    if(num % 2 == 0):\n",
    "        print(f'{num} is even')\n",
    "    else:\n",
    "        print(f'{num} is odd')\n",
    "\n",
    "even_odd(10)        \n",
    "even_odd(11)"
   ]
  },
  {
   "cell_type": "markdown",
   "metadata": {},
   "source": [
    "1. Keyword Argument\n",
    "An argument preceded by an identifier in a function call, like some_func(age=99), or passed as a value in a dictionary preceded by **"
   ]
  },
  {
   "cell_type": "code",
   "execution_count": 81,
   "metadata": {},
   "outputs": [
    {
     "name": "stdout",
     "output_type": "stream",
     "text": [
      "123.34\n",
      "1.215\n"
     ]
    }
   ],
   "source": [
    "print(round(number=123.345, ndigits=2))\n",
    "print(round (**{'number': 1.2154785, 'ndigits': 3}))"
   ]
  },
  {
   "cell_type": "markdown",
   "metadata": {},
   "source": [
    "2. Positional Argument\n",
    "Positional arguments can be passed directly without any identifier, or as elements of an iterable preceded by *."
   ]
  },
  {
   "cell_type": "code",
   "execution_count": 82,
   "metadata": {},
   "outputs": [
    {
     "name": "stdout",
     "output_type": "stream",
     "text": [
      "2.7183\n",
      "2.7183\n"
     ]
    }
   ],
   "source": [
    "print(round(2.718281828, 4))\n",
    "print(round(*(2.718281828, 4)))"
   ]
  },
  {
   "cell_type": "markdown",
   "metadata": {},
   "source": [
    "Return statement\n",
    "The return statement returns a value (or an expression) from a function. Function without a return statement returns None. Remember, None type represents the absence of an object."
   ]
  },
  {
   "cell_type": "code",
   "execution_count": 83,
   "metadata": {},
   "outputs": [
    {
     "name": "stdout",
     "output_type": "stream",
     "text": [
      "3.0\n"
     ]
    }
   ],
   "source": [
    "def cube_num(num):\n",
    "    return num**(1/3)\n",
    "\n",
    "print(cube_num(27))"
   ]
  },
  {
   "cell_type": "code",
   "execution_count": 85,
   "metadata": {},
   "outputs": [
    {
     "name": "stdout",
     "output_type": "stream",
     "text": [
      "I wont return anything.\n",
      "goblin() returns None\n"
     ]
    }
   ],
   "source": [
    "def goblin ():\n",
    "    print (\"I wont return anything.\")\n",
    "x = goblin () \n",
    "print (f\"goblin() returns {x}\")"
   ]
  },
  {
   "cell_type": "code",
   "execution_count": 87,
   "metadata": {},
   "outputs": [
    {
     "name": "stdout",
     "output_type": "stream",
     "text": [
      "Tormund, who has 185 cm height, is 29 years old.\n",
      "160, who has 15 cm height, is Ryan years old.\n",
      "Mark., who has 175 cm height, is 19 years old.\n"
     ]
    }
   ],
   "source": [
    "def display (name, age, height):\n",
    "    print (f\"{name}, who has {height} cm height, is {age} years old.\")\n",
    "    \n",
    "display('Tormund', 29, '185') \n",
    "display(160, 'Ryan', 15) \n",
    "display(age=19, height=175, name='Mark.')"
   ]
  },
  {
   "cell_type": "code",
   "execution_count": 92,
   "metadata": {},
   "outputs": [
    {
     "name": "stdout",
     "output_type": "stream",
     "text": [
      "values befoe swap \n",
      " a: 11, b: 12 \n",
      "\n",
      "values befoe swap \n",
      " a: 12, b: 11 \n",
      "\n"
     ]
    }
   ],
   "source": [
    "def swap(x,y):\n",
    "    temp = x\n",
    "    x = y\n",
    "    y = temp\n",
    "    return(x,y)\n",
    "\n",
    "a = 11\n",
    "b = 12\n",
    "print(f'values befoe swap \\n a: {a}, b: {b} \\n')\n",
    "a,b = swap(a,b)\n",
    "print(f'values befoe swap \\n a: {a}, b: {b} \\n')"
   ]
  },
  {
   "cell_type": "code",
   "execution_count": 93,
   "metadata": {},
   "outputs": [
    {
     "name": "stdout",
     "output_type": "stream",
     "text": [
      "Values before swapping \n",
      "a: 11, b:22\n",
      "\n",
      "Values afrer swapping \n",
      "a: 22, b:11\n"
     ]
    }
   ],
   "source": [
    "#You can also swap two values without using a temporary variable.\n",
    "def swap (x, y):\n",
    "    x = x+y\n",
    "    y = x-y\n",
    "    x = x-y\n",
    "    return (x, y)\n",
    "a = 11\n",
    "b = 22\n",
    "print(f'Values before swapping \\na: {a}, b:{b}\\n') \n",
    "a, b = swap (a, b)\n",
    "print (f'Values afrer swapping \\na: {a}, b:{b}')"
   ]
  },
  {
   "cell_type": "code",
   "execution_count": 95,
   "metadata": {},
   "outputs": [
    {
     "name": "stdout",
     "output_type": "stream",
     "text": [
      "55.0\n"
     ]
    }
   ],
   "source": [
    "#Cumilative Sum\n",
    "def cum_sum(num):\n",
    "    if(num == 0):\n",
    "        return 0\n",
    "    else:\n",
    "        return (num*(num+1)/2)\n",
    "\n",
    "print(cum_sum(10))    "
   ]
  },
  {
   "cell_type": "markdown",
   "metadata": {},
   "source": [
    "1. map() function\n",
    "It maps a function to an iterable i.e., it allows you to apply a function to an iterable by iterating through every item. map() function returns a generator like range().\n",
    "SYNTAX:-\n",
    "map (function, iterable)"
   ]
  },
  {
   "cell_type": "markdown",
   "metadata": {},
   "source": [
    "2. filter() function\n",
    "If a function filters the input based on some condition and returns either True or False, use filter function. The filter function works same as map, the only difference is, filter only returns those values of an iterable for which function is True.  Like map(), it is also a generator function.\n",
    "Syntax:-\n",
    "filter (function, iterable)"
   ]
  },
  {
   "cell_type": "markdown",
   "metadata": {},
   "source": [
    "lambda expression\n",
    "A lambda function has, no def, no return keyword; just arguments and an expression. \n",
    "Syntax:-\n",
    "lambda arg1, arg2, ... : expression\n",
    "Lambda expressions are more useful when used with Python’s built-in map() and filter() functions."
   ]
  },
  {
   "cell_type": "code",
   "execution_count": 191,
   "metadata": {},
   "outputs": [
    {
     "name": "stdout",
     "output_type": "stream",
     "text": [
      "3.0\n"
     ]
    }
   ],
   "source": [
    "cube_root  = lambda x: x**(1/3)\n",
    "print(cube_root(27))"
   ]
  },
  {
   "cell_type": "markdown",
   "metadata": {},
   "source": [
    "#Default argument values\n",
    "While defining a function you can set its arguments to a default value; if the function is called, without passing a value for that particular argument, default value for argument is set automatically. If value is passed then default value is overwritten with the value passed during the call."
   ]
  },
  {
   "cell_type": "code",
   "execution_count": 206,
   "metadata": {},
   "outputs": [
    {
     "name": "stdout",
     "output_type": "stream",
     "text": [
      "akshay likes Python\n",
      "girish likes java\n"
     ]
    }
   ],
   "source": [
    "def choice(name, language='Python'):\n",
    "    print(f'{name} likes {language}')\n",
    "\n",
    "choice('akshay')\n",
    "choice('girish', 'java')"
   ]
  },
  {
   "cell_type": "code",
   "execution_count": 210,
   "metadata": {},
   "outputs": [
    {
     "name": "stdout",
     "output_type": "stream",
     "text": [
      "['P', 'a', 'l', 'e', 's', 't', 'i', 'n', 'e']\n",
      "['P', 'a', 'l', 'e', 's', 't', 'i', 'n', 'e', 'K', 'a', 's', 'h', 'm', 'i', 'r']\n"
     ]
    }
   ],
   "source": [
    "def word_to_letter (word, alphabets=[]):\n",
    "    for i in word:\n",
    "        alphabets.append(i)\n",
    "    print (alphabets)\n",
    "word_to_letter ('Palestine') \n",
    "word_to_letter ('Kashmir')"
   ]
  },
  {
   "cell_type": "markdown",
   "metadata": {},
   "source": [
    "*args and **kwargs\n",
    "A function can have multiple arguments, or no arguments at all. If you’re not sure about the number of parameters while defining a function, you can simply pass *args to have an arbitrary number of arguments in the form of a tuple.\n",
    "*args can be replaced with any other name of your choice like *chocolate, but it’s a Pythonic convention to use *args."
   ]
  },
  {
   "cell_type": "code",
   "execution_count": 212,
   "metadata": {},
   "outputs": [
    {
     "name": "stdout",
     "output_type": "stream",
     "text": [
      "4\t1089\n",
      "Insufficient length.\n",
      "None\n"
     ]
    }
   ],
   "source": [
    "def squared_third_item (*args):\n",
    "    if (len (args) > 2): \n",
    "        return args[2]**2\n",
    "    else:\n",
    "        print ('Insufficient length.')\n",
    "\n",
    "a = squared_third_item(7, 13, 2, 8)\n",
    "b = squared_third_item(11, 22, 33, 44, 55)\n",
    "print(a, b, sep='\\t')\n",
    "c = squared_third_item () \n",
    "print (c)"
   ]
  },
  {
   "cell_type": "code",
   "execution_count": 213,
   "metadata": {},
   "outputs": [
    {
     "name": "stdout",
     "output_type": "stream",
     "text": [
      "[22, 44, 66]\n"
     ]
    }
   ],
   "source": [
    "def is_even (*args):\n",
    "    even_list = [num for num in args if num%2==0] \n",
    "    return even_list\n",
    "\n",
    "print (is_even(11,22,33,44,55,66))"
   ]
  },
  {
   "cell_type": "markdown",
   "metadata": {},
   "source": [
    "**kwargs (Keyword arguments) are frequently used to handle the cases where you have arbitrary number of arguments. Instead of tuples, it receives a dictionary containing all keyword arguments."
   ]
  },
  {
   "cell_type": "code",
   "execution_count": 214,
   "metadata": {},
   "outputs": [
    {
     "name": "stdout",
     "output_type": "stream",
     "text": [
      "Name: Jose \tEnroll: 213\n",
      "Name: Mark \tEnroll: 240\n"
     ]
    }
   ],
   "source": [
    "def student_info (**kwargs): \n",
    "    print (f\"Name: {kwargs['name']} \\tEnroll: {kwargs['enroll']}\")\n",
    "\n",
    "student_info (name='Jose', age=19, enroll=213) \n",
    "student_info (name='Mark', enroll=240, hair_color='black')"
   ]
  },
  {
   "cell_type": "code",
   "execution_count": 215,
   "metadata": {},
   "outputs": [
    {
     "name": "stdout",
     "output_type": "stream",
     "text": [
      "Name: Jose \tEnroll: 213\n",
      "Name: Mark \tEnroll: 240\n"
     ]
    }
   ],
   "source": [
    "def student_info (**kwargs):\n",
    "    print (f\"Name: {kwargs['name']} \\tEnroll: {kwargs['enroll']}\")\n",
    "\n",
    "student_info (**{'name': 'Jose', 'age': 19, 'enroll': 213}) \n",
    "student_info (**{'name': 'Mark', 'enroll': 240, 'hair_color': 'black'})"
   ]
  },
  {
   "cell_type": "code",
   "execution_count": 217,
   "metadata": {},
   "outputs": [
    {
     "ename": "TypeError",
     "evalue": "student_info() takes 0 positional arguments but 1 was given",
     "output_type": "error",
     "traceback": [
      "\u001b[1;31m---------------------------------------------------------------------------\u001b[0m",
      "\u001b[1;31mTypeError\u001b[0m                                 Traceback (most recent call last)",
      "\u001b[1;32m<ipython-input-217-52f535bf2a49>\u001b[0m in \u001b[0;36m<module>\u001b[1;34m\u001b[0m\n\u001b[0;32m      2\u001b[0m     \u001b[0mprint\u001b[0m\u001b[1;33m(\u001b[0m\u001b[1;34mf\"Name: {kwargs['name']} \\tEnroll: {kwargs['enroll']}\"\u001b[0m\u001b[1;33m)\u001b[0m\u001b[1;33m\u001b[0m\u001b[1;33m\u001b[0m\u001b[0m\n\u001b[0;32m      3\u001b[0m \u001b[1;33m\u001b[0m\u001b[0m\n\u001b[1;32m----> 4\u001b[1;33m \u001b[0mstudent_info\u001b[0m \u001b[1;33m(\u001b[0m\u001b[1;34m'Joshua'\u001b[0m\u001b[1;33m,\u001b[0m \u001b[0mage\u001b[0m\u001b[1;33m=\u001b[0m\u001b[1;36m23\u001b[0m\u001b[1;33m,\u001b[0m \u001b[0menroll\u001b[0m\u001b[1;33m=\u001b[0m\u001b[1;36m619\u001b[0m\u001b[1;33m)\u001b[0m\u001b[1;33m\u001b[0m\u001b[1;33m\u001b[0m\u001b[0m\n\u001b[0m",
      "\u001b[1;31mTypeError\u001b[0m: student_info() takes 0 positional arguments but 1 was given"
     ]
    }
   ],
   "source": [
    "def student_info (**kwargs): \n",
    "    print(f\"Name: {kwargs['name']} \\tEnroll: {kwargs['enroll']}\")\n",
    "\n",
    "student_info ('Joshua', age=23, enroll=619)"
   ]
  },
  {
   "cell_type": "markdown",
   "metadata": {},
   "source": [
    "Combining *args and **kwargs\n",
    "In a function call, positional arguments must appear first which are then followed by keyword arguments. "
   ]
  },
  {
   "cell_type": "code",
   "execution_count": null,
   "metadata": {},
   "outputs": [],
   "source": [
    "def total_sales(*args, **kwargs): \n",
    "    total = sum(args) \n",
    "    print(f\"{kwargs['day']} sales:{total}\")\n",
    "\n",
    "total_sales(73,15, day='Wednesday') \n",
    "total_sales(14,65,33, day='Friday')"
   ]
  },
  {
   "cell_type": "markdown",
   "metadata": {},
   "source": [
    "## if __name__ == \"__main__\":\n",
    "Read regarding this"
   ]
  },
  {
   "cell_type": "markdown",
   "metadata": {},
   "source": [
    "### CLASS\n",
    "\n",
    "- class refers to blueprint in which we can have data and methods\n",
    "\n",
    "- using class we can create objects\n",
    "\n",
    "- Object: = object is an istance of class \n",
    "    - Object is a software unit which combines data and methods\n",
    "    - in below ex objects are cab, cabdriver, passanger - these objects can exchange data between them\n",
    "\n",
    "- Methods: = Functions used inside the class is claled methods\n",
    "\n",
    "- Attributes: = variables inside class which stores some informatio  or data \n",
    "\n",
    "- Using classes we can create object of class"
   ]
  },
  {
   "cell_type": "code",
   "execution_count": 297,
   "metadata": {},
   "outputs": [
    {
     "data": {
      "text/plain": [
       "'\\nclass cab{\\n    cabservice, make, locationm numberplate  #data\\n    book(), arrival(), start()               #Methods\\n    }\\n\\nClass cabdriver{\\n    name, emplid   #data\\n    opendoor(), drive()   #methods\\n    }\\n    \\nclass passanger {\\n    name, address    #data\\n    openapp(), bookcab(), walk()  #Methods\\n}    \\n}\\n    '"
      ]
     },
     "execution_count": 297,
     "metadata": {},
     "output_type": "execute_result"
    }
   ],
   "source": [
    "'''\n",
    "class cab{\n",
    "    cabservice, make, locationm numberplate  #data\n",
    "    book(), arrival(), start()               #Methods\n",
    "    }\n",
    "\n",
    "Class cabdriver{\n",
    "    name, emplid   #data\n",
    "    opendoor(), drive()   #methods\n",
    "    }\n",
    "    \n",
    "class passanger {\n",
    "    name, address    #data\n",
    "    openapp(), bookcab(), walk()  #Methods\n",
    "}    \n",
    "}\n",
    "    '''"
   ]
  },
  {
   "cell_type": "code",
   "execution_count": 302,
   "metadata": {},
   "outputs": [
    {
     "name": "stdout",
     "output_type": "stream",
     "text": [
      "200\n",
      "red\n",
      "300\n",
      "white\n"
     ]
    }
   ],
   "source": [
    "class car:\n",
    "    pass\n",
    "\n",
    "# this pass keyword Creating a empty class\n",
    "# also can use pass keyword used to create empt methos \n",
    "\n",
    "# Create object/instance of class\n",
    "ford = car()   # ford is object/instance of class car\n",
    "honda = car()\n",
    "audi = car()\n",
    "\n",
    "#associate some data with objects\n",
    "ford.speed = 200   # here speed is the attribute/variable\n",
    "honda.speed = 220\n",
    "audi.speed = 250\n",
    "\n",
    "ford.color = 'red'     # here color is the attribute/variable\n",
    "honda.color = 'blue'\n",
    "audi.color = 'black'\n",
    "\n",
    "print(ford.speed)\n",
    "print(ford.color)\n",
    "\n",
    "ford.speed = 300\n",
    "ford.color = 'white'\n",
    "print(ford.speed)\n",
    "print(ford.color)"
   ]
  },
  {
   "cell_type": "code",
   "execution_count": 306,
   "metadata": {},
   "outputs": [
    {
     "name": "stdout",
     "output_type": "stream",
     "text": [
      "600\n",
      "400\n"
     ]
    }
   ],
   "source": [
    "class Rectangle:\n",
    "    pass\n",
    "\n",
    "rect1 = Rectangle()\n",
    "rect2 = Rectangle()\n",
    "\n",
    "rect1.width = 20\n",
    "rect1.height = 30\n",
    "\n",
    "rect2.width = 40\n",
    "rect2.height = 10\n",
    "\n",
    "#Calculate area of rectangle\n",
    "print(rect1.height * rect1.width)\n",
    "print(rect2.height * rect2.width)"
   ]
  },
  {
   "cell_type": "code",
   "execution_count": 308,
   "metadata": {},
   "outputs": [
    {
     "name": "stdout",
     "output_type": "stream",
     "text": [
      "the __init__ is called\n",
      "the __init__ is called\n",
      "the __init__ is called\n",
      "200\n",
      "red\n",
      "300\n",
      "white\n"
     ]
    }
   ],
   "source": [
    "class car:\n",
    "    def __init__(self):              #we use 'self' convenstion to indicate its current object, its not necessary thatwe use 'self' we can use any charecter indcation\n",
    "        print('the __init__ is called')\n",
    "\n",
    "# init method serves as constructor for class\n",
    "# init methos used to initialize some attributes or functions\n",
    "# init is the first methos is cllaed when we create instance of class\n",
    "\n",
    "ford = car()   # ford is object/instance of class car\n",
    "honda = car()\n",
    "audi = car()\n",
    "\n",
    "#associate some data with objects\n",
    "ford.speed = 200   # here speed is the attribute/variable\n",
    "honda.speed = 220\n",
    "audi.speed = 250\n",
    "\n",
    "ford.color = 'red'     # here color is the attribute/variable\n",
    "honda.color = 'blue'\n",
    "audi.color = 'black'\n",
    "\n",
    "print(ford.speed)\n",
    "print(ford.color)\n",
    "\n",
    "ford.speed = 300\n",
    "ford.color = 'white'\n",
    "print(ford.speed)\n",
    "print(ford.color)"
   ]
  },
  {
   "cell_type": "markdown",
   "metadata": {},
   "source": [
    "#lone 'the __init__ is called' called 3 times becuse we created 3 instance from same class\n",
    "#every time we create instance this lone is printed, rest print statements from instnace of classes will be printed\n",
    "#_Init_ is first method to be called whenever instance is created \n",
    "#Python don't have distructor as python take care of itself"
   ]
  },
  {
   "cell_type": "code",
   "execution_count": 310,
   "metadata": {},
   "outputs": [
    {
     "name": "stdout",
     "output_type": "stream",
     "text": [
      "200\n",
      "red\n",
      "the __init__ is called\n",
      "250\n",
      "blue\n",
      "the __init__ is called\n",
      "220\n",
      "white\n",
      "the __init__ is called\n"
     ]
    }
   ],
   "source": [
    "class car:\n",
    "    def __init__(self, speed, color):\n",
    "        print(speed)\n",
    "        print(color)\n",
    "        print('the __init__ is called')\n",
    "\n",
    "ford = car(200, 'red')   # ford is object/instance of class car\n",
    "honda = car(250, 'blue')\n",
    "audi = car(220, 'white')"
   ]
  },
  {
   "cell_type": "code",
   "execution_count": 313,
   "metadata": {},
   "outputs": [
    {
     "name": "stdout",
     "output_type": "stream",
     "text": [
      "200\n",
      "red\n",
      "the __init__ is called\n",
      "250\n",
      "blue\n",
      "the __init__ is called\n",
      "220\n",
      "white\n",
      "the __init__ is called\n",
      " \n",
      "200\n",
      "red\n"
     ]
    }
   ],
   "source": [
    "class car:\n",
    "    def __init__(self, speed, color):\n",
    "        print(speed)\n",
    "        print(color)\n",
    "        self.speed = speed\n",
    "        self.color = color\n",
    "        print('the __init__ is called')\n",
    "\n",
    "ford = car(200, 'red')   # ford is object/instance of class car\n",
    "honda = car(250, 'blue')\n",
    "audi = car(220, 'white')\n",
    "print(' ')\n",
    "print(ford.speed)\n",
    "print(ford.color)"
   ]
  },
  {
   "cell_type": "code",
   "execution_count": 318,
   "metadata": {},
   "outputs": [
    {
     "name": "stdout",
     "output_type": "stream",
     "text": [
      "600\n",
      "1000\n"
     ]
    }
   ],
   "source": [
    "class Rectangle:\n",
    "    def __init__(self, height, width):\n",
    "        self.height = height\n",
    "        self.width = width\n",
    "\n",
    "rect1 = Rectangle(20, 30)\n",
    "rect2 = Rectangle(50, 20)\n",
    "\n",
    "print(rect1.height * rect1.width)\n",
    "print(rect2.height * rect2.width)"
   ]
  },
  {
   "cell_type": "code",
   "execution_count": 326,
   "metadata": {},
   "outputs": [
    {
     "name": "stdout",
     "output_type": "stream",
     "text": [
      "akshay\n"
     ]
    }
   ],
   "source": [
    "# we should always pass 'self' parameter to __init__, else it will trow error\n",
    "# only one __init__ methos have to use inside class, if more used then the last __init__ will be taken\n",
    "class Hello:\n",
    "    def __init__(self): pass\n",
    "    def __init__(self, name): \n",
    "        self.name = name\n",
    "\n",
    "hello = Hello('akshay')  \n",
    "print(hello.name)"
   ]
  },
  {
   "cell_type": "code",
   "execution_count": 329,
   "metadata": {},
   "outputs": [
    {
     "name": "stdout",
     "output_type": "stream",
     "text": [
      "akshay\n",
      "abhi\n"
     ]
    }
   ],
   "source": [
    "class Hello:\n",
    "    def __init__(self, name='akshay'): \n",
    "        self.name = name\n",
    "\n",
    "name1 = Hello()  \n",
    "print(name1.name)\n",
    "\n",
    "name2 = Hello('abhi')  \n",
    "print(name2.name)"
   ]
  },
  {
   "cell_type": "code",
   "execution_count": 340,
   "metadata": {},
   "outputs": [
    {
     "name": "stdout",
     "output_type": "stream",
     "text": [
      "('akshay', 'abhi', 'mahesh', 'suresh')\n"
     ]
    }
   ],
   "source": [
    "class Hello:\n",
    "    def __init__(self, *args): # here *args can take any number of parameters\n",
    "        self.args = args\n",
    "\n",
    "names = Hello('akshay','abhi', 'mahesh', 'suresh')  \n",
    "print(names.args)"
   ]
  },
  {
   "cell_type": "code",
   "execution_count": 343,
   "metadata": {},
   "outputs": [
    {
     "name": "stdout",
     "output_type": "stream",
     "text": [
      "{'name': 'akshay', 'age': 28, 'sex': 'male', 'sal': 2000}\n"
     ]
    }
   ],
   "source": [
    "class Hello:\n",
    "    def __init__(self, **kwargs): # here *args can take any number of parameters\n",
    "        self.kwargs = kwargs\n",
    "\n",
    "names = Hello(name = 'akshay', age = 28, sex = 'male', sal = 2000)  \n",
    "print(names.kwargs)"
   ]
  },
  {
   "cell_type": "markdown",
   "metadata": {},
   "source": [
    "### encapsulation"
   ]
  },
  {
   "cell_type": "code",
   "execution_count": 372,
   "metadata": {},
   "outputs": [
    {
     "name": "stdout",
     "output_type": "stream",
     "text": [
      "10\n",
      "20\n"
     ]
    },
    {
     "ename": "AttributeError",
     "evalue": "'Hello' object has no attribute '__c'",
     "output_type": "error",
     "traceback": [
      "\u001b[1;31m---------------------------------------------------------------------------\u001b[0m",
      "\u001b[1;31mAttributeError\u001b[0m                            Traceback (most recent call last)",
      "\u001b[1;32m<ipython-input-372-8eecb9c74644>\u001b[0m in \u001b[0;36m<module>\u001b[1;34m\u001b[0m\n\u001b[0;32m     12\u001b[0m \u001b[0mprint\u001b[0m\u001b[1;33m(\u001b[0m\u001b[0mhello\u001b[0m\u001b[1;33m.\u001b[0m\u001b[0ma\u001b[0m\u001b[1;33m)\u001b[0m\u001b[1;33m\u001b[0m\u001b[1;33m\u001b[0m\u001b[0m\n\u001b[0;32m     13\u001b[0m \u001b[0mprint\u001b[0m\u001b[1;33m(\u001b[0m\u001b[0mhello\u001b[0m\u001b[1;33m.\u001b[0m\u001b[0m_b\u001b[0m\u001b[1;33m)\u001b[0m\u001b[1;33m\u001b[0m\u001b[1;33m\u001b[0m\u001b[0m\n\u001b[1;32m---> 14\u001b[1;33m \u001b[0mprint\u001b[0m\u001b[1;33m(\u001b[0m\u001b[0mhello\u001b[0m\u001b[1;33m.\u001b[0m\u001b[0m__c\u001b[0m\u001b[1;33m)\u001b[0m    \u001b[1;31m#when use __c we get error as AttributeError: 'Hello' object has no attribute '__c' becuase it acts like private\u001b[0m\u001b[1;33m\u001b[0m\u001b[1;33m\u001b[0m\u001b[0m\n\u001b[0m",
      "\u001b[1;31mAttributeError\u001b[0m: 'Hello' object has no attribute '__c'"
     ]
    }
   ],
   "source": [
    "# to make data private \n",
    "# python uses  double underscore '__' convetion to make data private\n",
    "# this private is used for data encapsulation(to restrict data from users)\n",
    "# encplsulation is restricting data access\n",
    "class Hello:\n",
    "    def __init__(self, name):\n",
    "        self.a = 10\n",
    "        self._b = 20\n",
    "        self.__c = 30\n",
    "\n",
    "hello = Hello('name')\n",
    "print(hello.a)\n",
    "print(hello._b)\n",
    "print(hello.__c)    #when use __c we get error as AttributeError: 'Hello' object has no attribute '__c' becuase it acts like private"
   ]
  },
  {
   "cell_type": "code",
   "execution_count": 364,
   "metadata": {},
   "outputs": [
    {
     "name": "stdout",
     "output_type": "stream",
     "text": [
      "200\n"
     ]
    }
   ],
   "source": [
    "# Enclapsulation\n",
    "# we can restrict users to change variable values \n",
    "class Rectangle:\n",
    "    def __init__(self, height, width):\n",
    "        self.__height = height\n",
    "        self.__width = width\n",
    "    \n",
    "    def set_height(self, height):\n",
    "        self.__height = height\n",
    "    def get_height(self, height):\n",
    "        return self.__height    \n",
    "    \n",
    "    def set_width(self, width):\n",
    "        self.__width = width\n",
    "    def get_height(self, width):\n",
    "        return self.__width       \n",
    "    \n",
    "    def area(self):\n",
    "        return self.__height * self.__width       \n",
    "        \n",
    "rect = Rectangle(10,20)   \n",
    "print(rect.area())\n",
    "#print(rect.height)   # We cannot access 'height' as its encapsulated\n",
    "#print(rect.width)    # We cannot access 'width' as its encapsulated"
   ]
  },
  {
   "cell_type": "code",
   "execution_count": 362,
   "metadata": {},
   "outputs": [
    {
     "name": "stdout",
     "output_type": "stream",
     "text": [
      "200\n"
     ]
    }
   ],
   "source": [
    "# Enclapsulation\n",
    "class Rectangle:\n",
    "    def __init__(self, height, width):\n",
    "        self.__height = height\n",
    "        self.__width = width\n",
    "    \n",
    "    def area(self):\n",
    "        return self.__height * self.__width\n",
    "rect = Rectangle(10,20)   \n",
    "print(rect.area())        "
   ]
  },
  {
   "cell_type": "code",
   "execution_count": 379,
   "metadata": {},
   "outputs": [
    {
     "name": "stdout",
     "output_type": "stream",
     "text": [
      "10\n",
      "20\n",
      "10\n",
      "30\n",
      "public\n",
      "private\n"
     ]
    }
   ],
   "source": [
    "# Defining private methos\n",
    "class Hello:\n",
    "    def __init__(self, name):\n",
    "        self.a = 10\n",
    "        self._b = 20\n",
    "        self.__c = 30\n",
    "        \n",
    "    #defining private class methos\n",
    "    def __private_method(self):   # We can define methos as private by using __ before to it, we cannot access this method outside this class\n",
    "        print('private')    \n",
    "    \n",
    "    #using private class variabe insdie a class methos\n",
    "    #using private class methos inside another class methos\n",
    "    def public_method(self):\n",
    "        print(self.a)\n",
    "        print(self.__c)    #we can access '__c' variable inside class methods\n",
    "        print('public')\n",
    "        self.__private_method()\n",
    "    \n",
    "        \n",
    "hello = Hello('name')\n",
    "print(hello.a)\n",
    "print(hello._b)\n",
    "hello.public_method()\n",
    "#hello.__private_method()   #AttributeError: 'Hello' object has no attribute '__private_method'"
   ]
  },
  {
   "cell_type": "markdown",
   "metadata": {},
   "source": [
    "### Inheritance\n",
    "- creating new class which retain charecteristics of the base class is called inheritance\n",
    "- involves superclass & subclass\n",
    "- the subclass inherits the members of the superclass, on top of which it can add its own members\n",
    "- idea behind inheritance is the new class can borrow the behaviors & methos from another class"
   ]
  },
  {
   "cell_type": "code",
   "execution_count": 391,
   "metadata": {},
   "outputs": [
    {
     "ename": "AttributeError",
     "evalue": "'Rectangle' object has no attribute '_Rectangle__height'",
     "output_type": "error",
     "traceback": [
      "\u001b[1;31m---------------------------------------------------------------------------\u001b[0m",
      "\u001b[1;31mAttributeError\u001b[0m                            Traceback (most recent call last)",
      "\u001b[1;32m<ipython-input-391-d00f3f0c6213>\u001b[0m in \u001b[0;36m<module>\u001b[1;34m\u001b[0m\n\u001b[0;32m     25\u001b[0m \u001b[0mtri\u001b[0m\u001b[1;33m.\u001b[0m\u001b[0mset_vlaues\u001b[0m\u001b[1;33m(\u001b[0m\u001b[1;36m10\u001b[0m\u001b[1;33m,\u001b[0m\u001b[1;36m20\u001b[0m\u001b[1;33m)\u001b[0m\u001b[1;33m\u001b[0m\u001b[1;33m\u001b[0m\u001b[0m\n\u001b[0;32m     26\u001b[0m \u001b[1;33m\u001b[0m\u001b[0m\n\u001b[1;32m---> 27\u001b[1;33m \u001b[0mprint\u001b[0m\u001b[1;33m(\u001b[0m\u001b[0mrect\u001b[0m\u001b[1;33m.\u001b[0m\u001b[0marea\u001b[0m\u001b[1;33m(\u001b[0m\u001b[1;33m)\u001b[0m\u001b[1;33m)\u001b[0m\u001b[1;33m\u001b[0m\u001b[1;33m\u001b[0m\u001b[0m\n\u001b[0m\u001b[0;32m     28\u001b[0m \u001b[0mprint\u001b[0m\u001b[1;33m(\u001b[0m\u001b[0mtri\u001b[0m\u001b[1;33m.\u001b[0m\u001b[0marea\u001b[0m\u001b[1;33m(\u001b[0m\u001b[1;33m)\u001b[0m\u001b[1;33m)\u001b[0m\u001b[1;33m\u001b[0m\u001b[1;33m\u001b[0m\u001b[0m\n",
      "\u001b[1;32m<ipython-input-391-d00f3f0c6213>\u001b[0m in \u001b[0;36marea\u001b[1;34m(self)\u001b[0m\n\u001b[0;32m      9\u001b[0m \u001b[1;32mclass\u001b[0m \u001b[0mRectangle\u001b[0m\u001b[1;33m(\u001b[0m\u001b[0mPolygon\u001b[0m\u001b[1;33m)\u001b[0m\u001b[1;33m:\u001b[0m\u001b[1;33m\u001b[0m\u001b[1;33m\u001b[0m\u001b[0m\n\u001b[0;32m     10\u001b[0m     \u001b[1;32mdef\u001b[0m \u001b[0marea\u001b[0m\u001b[1;33m(\u001b[0m\u001b[0mself\u001b[0m\u001b[1;33m)\u001b[0m\u001b[1;33m:\u001b[0m\u001b[1;33m\u001b[0m\u001b[1;33m\u001b[0m\u001b[0m\n\u001b[1;32m---> 11\u001b[1;33m         \u001b[1;32mreturn\u001b[0m \u001b[0mself\u001b[0m\u001b[1;33m.\u001b[0m\u001b[0m__height\u001b[0m \u001b[1;33m*\u001b[0m \u001b[0mself\u001b[0m\u001b[1;33m.\u001b[0m\u001b[0m__width\u001b[0m\u001b[1;33m\u001b[0m\u001b[1;33m\u001b[0m\u001b[0m\n\u001b[0m\u001b[0;32m     12\u001b[0m \u001b[1;33m\u001b[0m\u001b[0m\n\u001b[0;32m     13\u001b[0m \u001b[1;32mclass\u001b[0m \u001b[0mTriangle\u001b[0m\u001b[1;33m(\u001b[0m\u001b[0mPolygon\u001b[0m\u001b[1;33m)\u001b[0m\u001b[1;33m:\u001b[0m\u001b[1;33m\u001b[0m\u001b[1;33m\u001b[0m\u001b[0m\n",
      "\u001b[1;31mAttributeError\u001b[0m: 'Rectangle' object has no attribute '_Rectangle__height'"
     ]
    }
   ],
   "source": [
    "class Polygon:\n",
    "    __width = None  # we are using '__' to make vaibales as private\n",
    "    __height = None\n",
    "    \n",
    "    def set_vlaues(self, width, height):\n",
    "        self.__width = width\n",
    "        self.__height = height\n",
    "\n",
    "class Rectangle(Polygon):\n",
    "    def area(self):\n",
    "        return self.__height * self.__width\n",
    "    \n",
    "class Triangle(Polygon):\n",
    "    def area(self):\n",
    "        return self.__height * self.__width /2       \n",
    "    \n",
    "# Polygon = superclass \n",
    "# Rectangle & Triangle = subclasses\n",
    "# we ae inheriting properties from Polygon to subclasses\n",
    "\n",
    "rect = Rectangle()   # Created rectangle instance\n",
    "tri = Triangle()    # cteated triangle instance\n",
    "\n",
    "rect.set_vlaues(10, 20)\n",
    "tri.set_vlaues(10,20)\n",
    "\n",
    "print(rect.area())\n",
    "print(tri.area())"
   ]
  },
  {
   "cell_type": "markdown",
   "metadata": {},
   "source": [
    "- we are getting this error because '__width' & '__height' we defined as private variables in superclass\n",
    "which will not be accessed in subclasses as they are private for superclass\n",
    "- in order to access those private variables of superclass in subclasses we use get and set methods"
   ]
  },
  {
   "cell_type": "code",
   "execution_count": 394,
   "metadata": {},
   "outputs": [
    {
     "name": "stdout",
     "output_type": "stream",
     "text": [
      "200\n",
      "100.0\n"
     ]
    }
   ],
   "source": [
    "class Polygon:\n",
    "    __width = None  # we are using '__' to make vaibales as private\n",
    "    __height = None\n",
    "    \n",
    "    def set_vlaues(self, width, height):\n",
    "        self.__width = width\n",
    "        self.__height = height\n",
    "     \n",
    "    def get_width(self):   #get_width & get_height are public methods we can use anywhere inside class\n",
    "        return self.__width\n",
    "    \n",
    "    def get_height(self):\n",
    "        return self.__height\n",
    "    \n",
    "class Rectangle(Polygon):\n",
    "    def area(self):\n",
    "        return self.get_height() * self.get_width()\n",
    "    \n",
    "class Triangle(Polygon):\n",
    "    def area(self):\n",
    "        return self.get_height() * self.get_width() /2       \n",
    "    \n",
    "# Polygon = superclass \n",
    "# Rectangle & Triangle = subclasses\n",
    "# we ae inheriting properties from Polygon to subclasses\n",
    "\n",
    "rect = Rectangle()   # Created rectangle instance\n",
    "tri = Triangle()    # cteated triangle instance\n",
    "\n",
    "rect.set_vlaues(10, 20)\n",
    "tri.set_vlaues(10,20)\n",
    "\n",
    "print(rect.area())\n",
    "print(tri.area())"
   ]
  },
  {
   "cell_type": "code",
   "execution_count": 397,
   "metadata": {},
   "outputs": [
    {
     "name": "stdout",
     "output_type": "stream",
     "text": [
      "child __init__\n"
     ]
    }
   ],
   "source": [
    "class Parent:\n",
    "    def __init__(self):\n",
    "        print('parent __init__')\n",
    "        \n",
    "class Child(Parent):     #Inheridted parent class\n",
    "    def __init__(self):\n",
    "        print('child __init__')\n",
    "        \n",
    "child = Child()    \n",
    "# it will execute chlild class not parent class\n"
   ]
  },
  {
   "cell_type": "code",
   "execution_count": 398,
   "metadata": {},
   "outputs": [
    {
     "name": "stdout",
     "output_type": "stream",
     "text": [
      "child __init__\n",
      "parent __init__ akshay\n"
     ]
    }
   ],
   "source": [
    "# Super function is alowes us to refer super class implicitly\n",
    "# super function is a bult in function\n",
    "class Parent:\n",
    "    def __init__(selfn, name):\n",
    "        print('parent __init__', name)\n",
    "        \n",
    "class Child(Parent):     #Inheridted parent class\n",
    "    def __init__(self):\n",
    "        print('child __init__')\n",
    "        super().__init__('akshay')\n",
    "        \n",
    "child = Child()    \n",
    "# we can see both child & super class"
   ]
  },
  {
   "cell_type": "code",
   "execution_count": 400,
   "metadata": {},
   "outputs": [
    {
     "name": "stdout",
     "output_type": "stream",
     "text": [
      "(<class '__main__.Child'>, <class '__main__.Parent'>, <class 'object'>)\n"
     ]
    }
   ],
   "source": [
    "print(Child.__mro__)\n",
    "# mro standa for methos resolution order\n",
    "# this will show the order which methos will be called \n",
    "# in general all the methos in child class will be ececuted first and then parent class will be executed if mentiones"
   ]
  },
  {
   "cell_type": "code",
   "execution_count": 402,
   "metadata": {},
   "outputs": [
    {
     "name": "stdout",
     "output_type": "stream",
     "text": [
      "child__init__\n",
      "parent1__init__ akshay\n",
      "(<class '__main__.Child'>, <class '__main__.Parent1'>, <class '__main__.Parent2'>, <class 'object'>)\n"
     ]
    }
   ],
   "source": [
    "class Parent1:\n",
    "    def __init__(selfn, name):\n",
    "        print('parent1__init__', name)\n",
    "        \n",
    "class Parent2:\n",
    "    def __init__(selfn, name):\n",
    "        print('parent2__init__', name)        \n",
    "        \n",
    "class Child(Parent1, Parent2):     #Inheridted parent class\n",
    "    def __init__(self):\n",
    "        print('child__init__')\n",
    "        super().__init__('akshay')\n",
    "        \n",
    "child = Child()    \n",
    "# we can see both child & super class\n",
    "print(Child.__mro__)"
   ]
  },
  {
   "cell_type": "code",
   "execution_count": 408,
   "metadata": {},
   "outputs": [
    {
     "name": "stdout",
     "output_type": "stream",
     "text": [
      "child__init__\n",
      "parent2__init__ akshay\n",
      "parent1__init__ mayur\n",
      "(<class '__main__.Child'>, <class '__main__.Parent2'>, <class '__main__.Parent1'>, <class 'object'>)\n"
     ]
    }
   ],
   "source": [
    "class Parent1:\n",
    "    def __init__(selfn, name):\n",
    "        print('parent1__init__', name)\n",
    "        \n",
    "class Parent2:\n",
    "    def __init__(selfn, name):\n",
    "        print('parent2__init__', name)        \n",
    "        \n",
    "class Child(Parent2, Parent1):     #Inheridted parent class   # also it will ececute in order which we parent class are mentioned. Parent 2 will be excuted firest then Parent\n",
    "    def __init__(self):\n",
    "        print('child__init__')\n",
    "        Parent2.__init__(self, 'akshay')\n",
    "        Parent1.__init__(self, 'mayur')\n",
    "        \n",
    "child = Child()    \n",
    "# we can see both child & super class\n",
    "print(Child.__mro__)"
   ]
  },
  {
   "cell_type": "markdown",
   "metadata": {},
   "source": [
    "# Exceptions"
   ]
  },
  {
   "cell_type": "markdown",
   "metadata": {},
   "source": [
    "try and except clause:-\n",
    "> In Python, try-except clauses handle the exceptions. try clause is executed first, if an exception occurs the rest of try clause is skipped and except clause is executed; if no exception occurs, the except clause is skipped.\n",
    "\n",
    "> It is important to note that SyntaxErrors are not handled by these clauses.\n",
    "> It is also possible to handle selected exceptions only, if you type the name of that exception after except clause.\n",
    "If no particular exception is mentioned then except clause is executed for all exceptions caught in try block. "
   ]
  },
  {
   "cell_type": "code",
   "execution_count": 29,
   "metadata": {},
   "outputs": [
    {
     "name": "stdout",
     "output_type": "stream",
     "text": [
      "Written content in the file successfully\n"
     ]
    }
   ],
   "source": [
    "try:\n",
    "    file = open('C:/Users/Adinath/Desktop/Data_Science/akshay.txt', 'w') #When use 'r' then we get exception as we are writing in readi only file \n",
    "    file.write('my name is akshay')\n",
    "except IOError:\n",
    "    print (\"Error: cant find file or read data\")   \n",
    "else:\n",
    "     print (\"Written content in the file successfully\") \n",
    "     file.close"
   ]
  },
  {
   "cell_type": "code",
   "execution_count": 12,
   "metadata": {},
   "outputs": [
    {
     "name": "stdout",
     "output_type": "stream",
     "text": [
      "Dividing By zeror\n"
     ]
    }
   ],
   "source": [
    "try:\n",
    "    32/0\n",
    "except:\n",
    "    print('Dividing By zeror')"
   ]
  },
  {
   "cell_type": "code",
   "execution_count": 25,
   "metadata": {
    "scrolled": true
   },
   "outputs": [
    {
     "name": "stdout",
     "output_type": "stream",
     "text": [
      "There is no such index!\n"
     ]
    }
   ],
   "source": [
    "try:\n",
    "    car_brands= ['ford', 'ferrari', 'bmw']\n",
    "    print(car_brands[3]) \n",
    "except IndexError:\n",
    "    print('There is no such index!')"
   ]
  },
  {
   "cell_type": "code",
   "execution_count": 22,
   "metadata": {},
   "outputs": [
    {
     "name": "stdout",
     "output_type": "stream",
     "text": [
      "My Model\n"
     ]
    }
   ],
   "source": [
    "try:\n",
    "    print('My Model')\n",
    "except(TypeError, IndexError, NameError, ZerorDivisionError):\n",
    "    print('My Exceptions')"
   ]
  },
  {
   "cell_type": "code",
   "execution_count": 21,
   "metadata": {},
   "outputs": [
    {
     "name": "stdout",
     "output_type": "stream",
     "text": [
      "My variable\n",
      "No NameError\n"
     ]
    }
   ],
   "source": [
    "my_variable = 'My variable'\n",
    "try:\n",
    "    print(my_variable) \n",
    "except NameError:\n",
    "    print('NameError caught!') \n",
    "else:\n",
    "    print('No NameError')"
   ]
  },
  {
   "cell_type": "code",
   "execution_count": 28,
   "metadata": {},
   "outputs": [
    {
     "name": "stdout",
     "output_type": "stream",
     "text": [
      "Doing something with the exception!\n"
     ]
    },
    {
     "ename": "IndexError",
     "evalue": "This index is not allowed",
     "output_type": "error",
     "traceback": [
      "\u001b[1;31m---------------------------------------------------------------------------\u001b[0m",
      "\u001b[1;31mIndexError\u001b[0m                                Traceback (most recent call last)",
      "\u001b[1;32m<ipython-input-28-c3056291bf64>\u001b[0m in \u001b[0;36m<module>\u001b[1;34m\u001b[0m\n\u001b[0;32m      1\u001b[0m \u001b[1;32mtry\u001b[0m\u001b[1;33m:\u001b[0m\u001b[1;33m\u001b[0m\u001b[1;33m\u001b[0m\u001b[0m\n\u001b[1;32m----> 2\u001b[1;33m     \u001b[1;32mraise\u001b[0m \u001b[0mIndexError\u001b[0m\u001b[1;33m(\u001b[0m\u001b[1;34m'This index is not allowed'\u001b[0m\u001b[1;33m)\u001b[0m\u001b[1;33m\u001b[0m\u001b[1;33m\u001b[0m\u001b[0m\n\u001b[0m\u001b[0;32m      3\u001b[0m \u001b[1;32mexcept\u001b[0m\u001b[1;33m:\u001b[0m\u001b[1;33m\u001b[0m\u001b[1;33m\u001b[0m\u001b[0m\n\u001b[0;32m      4\u001b[0m     \u001b[0mprint\u001b[0m\u001b[1;33m(\u001b[0m\u001b[1;34m'Doing something with the exception!'\u001b[0m\u001b[1;33m)\u001b[0m\u001b[1;33m\u001b[0m\u001b[1;33m\u001b[0m\u001b[0m\n\u001b[0;32m      5\u001b[0m     \u001b[1;32mraise\u001b[0m\u001b[1;33m\u001b[0m\u001b[1;33m\u001b[0m\u001b[0m\n",
      "\u001b[1;31mIndexError\u001b[0m: This index is not allowed"
     ]
    }
   ],
   "source": [
    "try:\n",
    "    raise IndexError('This index is not allowed')\n",
    "except:\n",
    "    print('Doing something with the exception!')\n",
    "    raise"
   ]
  },
  {
   "cell_type": "code",
   "execution_count": 29,
   "metadata": {},
   "outputs": [
    {
     "name": "stdout",
     "output_type": "stream",
     "text": [
      "My variable\n",
      "Finally block\n"
     ]
    }
   ],
   "source": [
    "try:\n",
    "    print(my_variable) \n",
    "except NameError:\n",
    "    print('Except block') \n",
    "finally:\n",
    "    print('Finally block')"
   ]
  },
  {
   "cell_type": "code",
   "execution_count": 47,
   "metadata": {},
   "outputs": [
    {
     "name": "stdout",
     "output_type": "stream",
     "text": [
      "My first car isTata\n"
     ]
    }
   ],
   "source": [
    "car_list = ['tata', 'zen', 'benz']\n",
    "message = 'My first car is'  + car_list[0].title()\n",
    "print(message)\n"
   ]
  },
  {
   "cell_type": "code",
   "execution_count": 57,
   "metadata": {},
   "outputs": [
    {
     "name": "stdout",
     "output_type": "stream",
     "text": [
      "['nexa', 'nexa', 'nexa', 'nexa', 'tata', 'zen', 'benz', 'hudai', 'hudai', 'hudai', 'hudai']\n",
      "nexa\n"
     ]
    }
   ],
   "source": [
    "car_list.insert(0, 'nexa')\n",
    "print(car_list)\n",
    "print(car_list[1])"
   ]
  },
  {
   "cell_type": "code",
   "execution_count": 107,
   "metadata": {},
   "outputs": [],
   "source": [
    "car_list.reverse()"
   ]
  },
  {
   "cell_type": "code",
   "execution_count": 115,
   "metadata": {},
   "outputs": [
    {
     "name": "stdout",
     "output_type": "stream",
     "text": [
      "['zen', 'maruti', 'benz', 'Hero', 'BMW']\n"
     ]
    }
   ],
   "source": [
    "print(car_list)"
   ]
  },
  {
   "cell_type": "code",
   "execution_count": 123,
   "metadata": {},
   "outputs": [
    {
     "name": "stdout",
     "output_type": "stream",
     "text": [
      "z e\n",
      "m a\n",
      "b e\n",
      "H e\n",
      "B M\n"
     ]
    }
   ],
   "source": [
    "for list in car_list:\n",
    "    print(list[0],list[1])"
   ]
  },
  {
   "cell_type": "code",
   "execution_count": 153,
   "metadata": {},
   "outputs": [
    {
     "name": "stdout",
     "output_type": "stream",
     "text": [
      "[0, 2, 4, 6, 8, 10, 12, 14, 16, 18, 20]\n"
     ]
    }
   ],
   "source": [
    "squares = [] #Initialising emty List\n",
    "for i in range(0,11):\n",
    "    squares.append(i*2)\n",
    "print(squares)"
   ]
  },
  {
   "cell_type": "code",
   "execution_count": 154,
   "metadata": {},
   "outputs": [
    {
     "name": "stdout",
     "output_type": "stream",
     "text": [
      "[0, 2, 4, 6, 8, 10, 12, 14, 16, 18, 20]\n"
     ]
    }
   ],
   "source": [
    "#OR\n",
    "squares = [] #Initialising emty List\n",
    "for i in range(0,11):\n",
    "    values = i*2\n",
    "    squares.append(values)\n",
    "print(squares)"
   ]
  },
  {
   "cell_type": "code",
   "execution_count": 155,
   "metadata": {},
   "outputs": [
    {
     "name": "stdout",
     "output_type": "stream",
     "text": [
      "[0, 2, 4, 6, 8, 10, 12, 14, 16, 18, 20]\n"
     ]
    }
   ],
   "source": [
    "#OR\n",
    "squares = [i*2 for i in range(0,11)]\n",
    "print(squares)"
   ]
  },
  {
   "cell_type": "code",
   "execution_count": 170,
   "metadata": {},
   "outputs": [
    {
     "name": "stdout",
     "output_type": "stream",
     "text": [
      "0\n",
      "[0, 2, 4, 6, 8, 10, 12, 14, 16, 18, 20]\n",
      "[0, 2, 4, 6, 8, 10, 12, 14, 16, 18, 20]\n",
      "[10, 12, 14, 16, 18, 20]\n",
      "[2, 4, 6, 8]\n",
      "[12, 14, 16, 18, 20]\n",
      "[0, 2, 4, 6, 8, 10]\n"
     ]
    }
   ],
   "source": [
    "print(squares[0])\n",
    "print(squares[0:])\n",
    "print(squares[:])\n",
    "print(squares[5:])\n",
    "print(squares[1:5])\n",
    "print(squares[-5:])\n",
    "print(squares[:-5])"
   ]
  },
  {
   "cell_type": "code",
   "execution_count": 172,
   "metadata": {},
   "outputs": [
    {
     "name": "stdout",
     "output_type": "stream",
     "text": [
      "['hcl', 'amzon', 'microsoft', 'google']\n",
      "['hcl', 'amzon', 'microsoft', 'google']\n"
     ]
    }
   ],
   "source": [
    "#Copying a list\n",
    "list1 = ['hcl', 'amzon','microsoft','google']\n",
    "print(list1)\n",
    "list2 = list1[:]\n",
    "print(list2)"
   ]
  },
  {
   "cell_type": "code",
   "execution_count": 180,
   "metadata": {},
   "outputs": [
    {
     "name": "stdout",
     "output_type": "stream",
     "text": [
      "('hcl', 'amzon', 'microsoft', 'google')\n",
      "hcl\n",
      "('hcl', 'amzon', 'microsoft', 'google')\n"
     ]
    }
   ],
   "source": [
    "tuple1 = ('hcl', 'amzon','microsoft','google')\n",
    "print(tuple1)\n",
    "print(tuple1[0])\n",
    "print(tuple1[0:])"
   ]
  },
  {
   "cell_type": "code",
   "execution_count": 183,
   "metadata": {},
   "outputs": [
    {
     "ename": "TypeError",
     "evalue": "'tuple' object does not support item assignment",
     "output_type": "error",
     "traceback": [
      "\u001b[1;31m---------------------------------------------------------------------------\u001b[0m",
      "\u001b[1;31mTypeError\u001b[0m                                 Traceback (most recent call last)",
      "\u001b[1;32m<ipython-input-183-242da5980d8b>\u001b[0m in \u001b[0;36m<module>\u001b[1;34m\u001b[0m\n\u001b[0;32m      1\u001b[0m \u001b[1;31m#We cannot update tuple\u001b[0m\u001b[1;33m\u001b[0m\u001b[1;33m\u001b[0m\u001b[1;33m\u001b[0m\u001b[0m\n\u001b[1;32m----> 2\u001b[1;33m \u001b[0mtuple1\u001b[0m\u001b[1;33m[\u001b[0m\u001b[1;36m0\u001b[0m\u001b[1;33m]\u001b[0m \u001b[1;33m=\u001b[0m \u001b[1;34m'APPLE'\u001b[0m\u001b[1;33m\u001b[0m\u001b[1;33m\u001b[0m\u001b[0m\n\u001b[0m\u001b[0;32m      3\u001b[0m \u001b[0mtuple1\u001b[0m\u001b[1;33m[\u001b[0m\u001b[1;36m0\u001b[0m\u001b[1;33m]\u001b[0m \u001b[1;33m=\u001b[0m \u001b[1;34m'APPLE'\u001b[0m\u001b[1;33m\u001b[0m\u001b[1;33m\u001b[0m\u001b[0m\n",
      "\u001b[1;31mTypeError\u001b[0m: 'tuple' object does not support item assignment"
     ]
    }
   ],
   "source": [
    "#We cannot update tuple\n",
    "tuple1[0] = 'APPLE'\n",
    "tuple1[0] = 'APPLE'"
   ]
  },
  {
   "cell_type": "code",
   "execution_count": null,
   "metadata": {},
   "outputs": [],
   "source": [
    "# '=' & '==' Operator\n",
    "car = 'bmw'  #sets the value of car to 'bmw'\n",
    "car == 'bmw' #This equality operator returns True if the values on the left and right side of the operator match False if they don’t match"
   ]
  },
  {
   "cell_type": "code",
   "execution_count": 199,
   "metadata": {},
   "outputs": [
    {
     "name": "stdout",
     "output_type": "stream",
     "text": [
      "enter number to find calculation'10'\n",
      "enter number to find calculation11\n"
     ]
    }
   ],
   "source": [
    "number = input('enter number to find calculation')\n",
    "number1 = int(input('enter number to find calculation'))"
   ]
  },
  {
   "cell_type": "code",
   "execution_count": 200,
   "metadata": {},
   "outputs": [
    {
     "name": "stdout",
     "output_type": "stream",
     "text": [
      "'10'\n",
      "11\n",
      "<class 'str'>\n",
      "<class 'int'>\n"
     ]
    }
   ],
   "source": [
    "print(number)\n",
    "print(number1)\n",
    "print(type(number))\n",
    "print(type(number1))"
   ]
  },
  {
   "cell_type": "code",
   "execution_count": 1,
   "metadata": {},
   "outputs": [
    {
     "name": "stdout",
     "output_type": "stream",
     "text": [
      "\n",
      "Tell me something, and I will repeat it back to you:\n",
      "Enter 'quit' to end the program. hello\n",
      "hello\n",
      "\n",
      "Tell me something, and I will repeat it back to you:\n",
      "Enter 'quit' to end the program. quit\n",
      "quit\n"
     ]
    }
   ],
   "source": [
    "#Letting the User Choose When to Quit \n",
    "prompt = \"\\nTell me something, and I will repeat it back to you:\"\n",
    "prompt += \"\\nEnter 'quit' to end the program. \"\n",
    "message = \"\"\n",
    "while message != 'quit':\n",
    "    message = input(prompt)\n",
    "    print(message)"
   ]
  },
  {
   "cell_type": "code",
   "execution_count": 6,
   "metadata": {},
   "outputs": [
    {
     "name": "stdout",
     "output_type": "stream",
     "text": [
      "\n",
      "Tell me something, and I will repeat it back to you:\n",
      "Enter 'quit' to end the program. hello\n",
      "hello\n",
      "\n",
      "Tell me something, and I will repeat it back to you:\n",
      "Enter 'quit' to end the program. quit\n"
     ]
    }
   ],
   "source": [
    "prompt = \"\\nTell me something, and I will repeat it back to you:\" \n",
    "prompt += \"\\nEnter 'quit' to end the program. \"\n",
    "active = True\n",
    "while active:\n",
    "    message = input(prompt)\n",
    "    \n",
    "    if message == 'quit':\n",
    "        active = False\n",
    "    else:\n",
    "        print(message)"
   ]
  },
  {
   "cell_type": "code",
   "execution_count": 2,
   "metadata": {},
   "outputs": [
    {
     "name": "stdout",
     "output_type": "stream",
     "text": [
      "\n",
      " Enter the name of city you have visited\n",
      " Enter quit when you finished11\n",
      "I'd love to go to 11!\n",
      "\n",
      " Enter the name of city you have visited\n",
      " Enter quit when you finishedquit\n"
     ]
    }
   ],
   "source": [
    "#Using break to Exit a Loop \n",
    "prompt = \"\\n Enter the name of city you have visited\"\n",
    "prompt += \"\\n Enter quit when you finished\"\n",
    "\n",
    "while True:\n",
    "    city = input(prompt)\n",
    "    \n",
    "    if city == 'quit':\n",
    "        break\n",
    "    else:\n",
    "         print(\"I'd love to go to \" + city.title() + \"!\")    "
   ]
  },
  {
   "cell_type": "code",
   "execution_count": 1,
   "metadata": {},
   "outputs": [
    {
     "name": "stdout",
     "output_type": "stream",
     "text": [
      "Hello, Hannah!\n",
      "Hello, Ty!\n",
      "Hello, Margot!\n"
     ]
    }
   ],
   "source": [
    "#passing list to  function paramter\n",
    "def greet_users(names):\n",
    "    \"\"\"Print a simple greeting to each user in the list.\"\"\" \n",
    "    for name in names:\n",
    "        msg = \"Hello, \" + name.title() + \"!\"\n",
    "        print(msg)\n",
    "usernames = ['hannah', 'ty', 'margot']\n",
    "greet_users(usernames)"
   ]
  },
  {
   "cell_type": "markdown",
   "metadata": {},
   "source": [
    "Differnce Between Python 2 & Python 3\n",
    "1. The print Function \n",
    "    #print \"Hello World\" #is acceptable in Python 2 \n",
    "    print (\"Hello World\") # in Python 3, print must be followed by () \n",
    "    \n",
    "2. #print hi,           # Trailing comma suppresses newline in Python 2 \n",
    "    print('hi', end=\" \")  # Appends a space instead of a newline in Python  \n",
    "    \n",
    "3. Reading Input from Keboard\n",
    "        # Python 2 has two versions of input functions, input() and raw_input(). The input() function treats the received data         as string if it is included in quotes '' or \"\", otherwise the data is treated as number. \n",
    "        In Python 3, raw_input() function is deprecated. Further, the received data is always treated as string.     \n",
    "     \n",
    "4. #Integer Division \n",
    "        #In Python 2, the result of division of two integers is rounded to the nearest integer. As a result, 3/2 will show 1.           In order to obtain a floating-point division, numerator or denominator must be explicitly used as float. Hence, either         3.0/2 or 3/2.0 or 3.0/2.0 will result \n",
    "        #in 1.5 Python 3 evaluates 3 / 2 as 1.5 by default, which is more intuitive for new programmers.  \n",
    "\n",
    "5. xrange() Function Removed In Python 2 range() returns a list, and xrange() returns an object that will only generate the            items in the range when needed, saving memory. \n",
    "       In Python 3, the range() function is removed, and xrange() has been renamed as range(). In addition, the range() object        supports slicing in Python 3.2 and later ."
   ]
  },
  {
   "cell_type": "markdown",
   "metadata": {},
   "source": [
    "### Placeholder formatting\n",
    "Also known as Old string formatting uses modulo operator (%) to inject different types of variables.\n",
    "Operator   Data type         \n",
    "%s   string\n",
    "%d   integer\n",
    "%f    floating point number"
   ]
  },
  {
   "cell_type": "code",
   "execution_count": 1,
   "metadata": {},
   "outputs": [
    {
     "name": "stdout",
     "output_type": "stream",
     "text": [
      "Remember why You started\n"
     ]
    }
   ],
   "source": [
    "who = \"You\" \n",
    "print ('Remember why %s started' %who) "
   ]
  },
  {
   "cell_type": "code",
   "execution_count": 5,
   "metadata": {},
   "outputs": [
    {
     "name": "stdout",
     "output_type": "stream",
     "text": [
      "pi, 3.141592 is not equal to 22/7\n"
     ]
    }
   ],
   "source": [
    "pi = 3.141592\n",
    "print('pi, %f is not equal to 22/7' %pi)"
   ]
  },
  {
   "cell_type": "code",
   "execution_count": 10,
   "metadata": {},
   "outputs": [
    {
     "name": "stdout",
     "output_type": "stream",
     "text": [
      "python 3 is awesome\n",
      "Alledic to Morning\n",
      " My name is Akshay i am 25 old\n"
     ]
    }
   ],
   "source": [
    "print('python %d is awesome' %3)\n",
    "print('%s to %s' %('Alledic', 'Morning'))\n",
    "print(' My name is %s i am %d old' %('Akshay', 25))"
   ]
  },
  {
   "cell_type": "code",
   "execution_count": 11,
   "metadata": {},
   "outputs": [
    {
     "name": "stdout",
     "output_type": "stream",
     "text": [
      "value of pi: 3.142\n",
      "value of pi:     3.1416\n"
     ]
    }
   ],
   "source": [
    "pi = 3.141592653589793 \n",
    "print (\"value of pi: %1.3f\" %pi) \n",
    "print (\"value of pi: %10.4f\" %pi) "
   ]
  },
  {
   "cell_type": "markdown",
   "metadata": {},
   "source": [
    "## String format() method"
   ]
  },
  {
   "cell_type": "code",
   "execution_count": 12,
   "metadata": {},
   "outputs": [
    {
     "name": "stdout",
     "output_type": "stream",
     "text": [
      "Hear Me Roar\n",
      "Ours is the Fury\n"
     ]
    }
   ],
   "source": [
    "who = \"Me\" \n",
    "print ('Hear {} Roar' .format(who))\n",
    "print (\"{} is the {}\" .format (\"Ours\", \"Fury\")) "
   ]
  },
  {
   "cell_type": "code",
   "execution_count": 15,
   "metadata": {},
   "outputs": [
    {
     "name": "stdout",
     "output_type": "stream",
     "text": [
      "Forever is composed of nows\n",
      "nows is composed of Forever\n",
      "Nonsense wakes up the Brain cells\n",
      "Brain wakes up the Nonsense cells\n",
      " 3.141593\n",
      "This  text  looks  great  \n",
      "This  text  text   great  \n"
     ]
    }
   ],
   "source": [
    "print (\"{} is composed of {}\" .format(\"Forever\", \"nows\")) \n",
    "print (\"{1} is composed of {0}\" .format(\"Forever\", \"nows\"))  \n",
    "print (\"{} wakes up the {} cells\" .format('Nonsense', 'Brain'))\n",
    "print (\"{b} wakes up the {n} cells\" .format(n='Nonsense', b='Brain')) \n",
    "print (\"{pi: 1.6f}\" .format (pi=3.1415926535)) \n",
    "print (\"{0:6}{1:6}{2:7}{3:7}\" .format (\"This\", \"text\", \"looks\", \"great\"))\n",
    "print (\"{0:6}{1:6}{1:7}{3:7}\" .format (\"This\", \"text\", \"looks\", \"great\")) "
   ]
  },
  {
   "cell_type": "markdown",
   "metadata": {},
   "source": [
    "##  f strings"
   ]
  },
  {
   "cell_type": "code",
   "execution_count": 19,
   "metadata": {},
   "outputs": [
    {
     "name": "stdout",
     "output_type": "stream",
     "text": [
      "Stressed, Blessed and Python Obsessed\n",
      "Stressed, Blessed and Python Obsessed\n",
      "Stressed, Blessed and Python Obsessed\n",
      "Stressed, Blessed and Python Obsessed\n"
     ]
    }
   ],
   "source": [
    "x = 'Blessed'\n",
    "y = 'Obsessed'\n",
    "z = f'Stressed, {x} and Python {y}'\n",
    "print(z)\n",
    "print (f'Stressed, {x} and Python {y}')\n",
    "print ('Stressed, {} and Python {}' .format(x, y)) \n",
    "print ('Stressed, %s and Python %s' %(x, y)) "
   ]
  },
  {
   "cell_type": "markdown",
   "metadata": {},
   "source": [
    "## Indexing and slicing"
   ]
  },
  {
   "cell_type": "code",
   "execution_count": 24,
   "metadata": {},
   "outputs": [
    {
     "name": "stdout",
     "output_type": "stream",
     "text": [
      "y trip\n",
      "yti\n",
      "yr\n",
      "23\n",
      "Lost Unicorn\n"
     ]
    }
   ],
   "source": [
    "a = 'Stay trippy little hippie' \n",
    "print(a[3:9]) \n",
    "print(a[3:9:2])\n",
    "print(a[3:9:3]) \n",
    "message = \"Lxoesit   Umnoiscxozren\" \n",
    "print(len(message))\n",
    "print(message [0:23:2])"
   ]
  },
  {
   "cell_type": "code",
   "execution_count": 29,
   "metadata": {},
   "outputs": [
    {
     "name": "stdout",
     "output_type": "stream",
     "text": [
      "Cruising the waves\n",
      "Cruising the waves\n",
      "Cusn h ae\n",
      "sevaw eht gnisiurC\n"
     ]
    }
   ],
   "source": [
    "text = 'Cruising the waves'\n",
    "print(text [:])      #grabs everything \n",
    "print(text [::1])\n",
    "print(text [::2])\n",
    "print(text [::-1])   #trick to reverse a string "
   ]
  },
  {
   "cell_type": "markdown",
   "metadata": {},
   "source": [
    "# Strings are immutable\n",
    "Python strings have a special property of immutability i.e., once a string is created, the characters within it can’t be changed or replaced. Therefore, assigning values to an indexed position in the string results in an error."
   ]
  },
  {
   "cell_type": "code",
   "execution_count": 30,
   "metadata": {},
   "outputs": [
    {
     "ename": "TypeError",
     "evalue": "'str' object does not support item assignment",
     "output_type": "error",
     "traceback": [
      "\u001b[1;31m---------------------------------------------------------------------------\u001b[0m",
      "\u001b[1;31mTypeError\u001b[0m                                 Traceback (most recent call last)",
      "\u001b[1;32m<ipython-input-30-c57236fb4ba3>\u001b[0m in \u001b[0;36m<module>\u001b[1;34m\u001b[0m\n\u001b[0;32m      1\u001b[0m \u001b[0mx\u001b[0m \u001b[1;33m=\u001b[0m \u001b[1;34m'Cue the Confetti'\u001b[0m\u001b[1;33m\u001b[0m\u001b[1;33m\u001b[0m\u001b[0m\n\u001b[1;32m----> 2\u001b[1;33m \u001b[0mx\u001b[0m\u001b[1;33m[\u001b[0m\u001b[1;36m5\u001b[0m\u001b[1;33m]\u001b[0m \u001b[1;33m=\u001b[0m \u001b[1;34m'z'\u001b[0m\u001b[1;33m\u001b[0m\u001b[1;33m\u001b[0m\u001b[0m\n\u001b[0m",
      "\u001b[1;31mTypeError\u001b[0m: 'str' object does not support item assignment"
     ]
    }
   ],
   "source": [
    "x = 'Cue the Confetti' \n",
    "x[5] = 'z' "
   ]
  },
  {
   "cell_type": "markdown",
   "metadata": {},
   "source": [
    "## str.capitalize ()"
   ]
  },
  {
   "cell_type": "code",
   "execution_count": 35,
   "metadata": {},
   "outputs": [
    {
     "name": "stdout",
     "output_type": "stream",
     "text": [
      "Hypermnesia\n"
     ]
    }
   ],
   "source": [
    "print('hypermnesia'.capitalize ())"
   ]
  },
  {
   "cell_type": "code",
   "execution_count": 36,
   "metadata": {},
   "outputs": [
    {
     "name": "stdout",
     "output_type": "stream",
     "text": [
      "We do not sow\n"
     ]
    }
   ],
   "source": [
    "greyjoy = 'wE dO nOt sOw' \n",
    "print(greyjoy.capitalize ())"
   ]
  },
  {
   "cell_type": "markdown",
   "metadata": {},
   "source": [
    "## str.title ()\n",
    "It returns a titlecased copy of string i.e., first character of each word is uppercased and the remaining characters are lowercased."
   ]
  },
  {
   "cell_type": "code",
   "execution_count": 37,
   "metadata": {},
   "outputs": [
    {
     "data": {
      "text/plain": [
       "'Valar Morghulis'"
      ]
     },
     "execution_count": 37,
     "metadata": {},
     "output_type": "execute_result"
    }
   ],
   "source": [
    "'valar morghulis'.title () "
   ]
  },
  {
   "cell_type": "code",
   "execution_count": 38,
   "metadata": {},
   "outputs": [
    {
     "name": "stdout",
     "output_type": "stream",
     "text": [
      "Three-Eyed Raven\n"
     ]
    }
   ],
   "source": [
    "bran = 'three-eyed raven'.title() \n",
    "print (bran)"
   ]
  },
  {
   "cell_type": "markdown",
   "metadata": {},
   "source": [
    "##  str.index (substring)\n",
    " It returns the index of first instance of substring or character, passed to it."
   ]
  },
  {
   "cell_type": "code",
   "execution_count": 41,
   "metadata": {},
   "outputs": [
    {
     "name": "stdout",
     "output_type": "stream",
     "text": [
      "2\n",
      "11\n"
     ]
    }
   ],
   "source": [
    "x = 'Mess with North, leave in hearse!' \n",
    "print(x.index ('s'))\n",
    "print(x.index ('orth'))"
   ]
  },
  {
   "cell_type": "markdown",
   "metadata": {},
   "source": [
    "## str.lower () \n",
    "It returns a lowercased copy of string."
   ]
  },
  {
   "cell_type": "code",
   "execution_count": 42,
   "metadata": {},
   "outputs": [
    {
     "name": "stdout",
     "output_type": "stream",
     "text": [
      "selcouth\n"
     ]
    }
   ],
   "source": [
    "print('sElcOUth'.lower())"
   ]
  },
  {
   "cell_type": "markdown",
   "metadata": {},
   "source": [
    "## str.replace(old, new)\n",
    "It returns a copy of the string with all occurrences of substring, old replaced by new."
   ]
  },
  {
   "cell_type": "code",
   "execution_count": 49,
   "metadata": {},
   "outputs": [
    {
     "name": "stdout",
     "output_type": "stream",
     "text": [
      "akshzz\n",
      "Norway\n",
      "Polo\n"
     ]
    }
   ],
   "source": [
    "print('akshay'.replace('ay', 'zz'))\n",
    "print('North'.replace('th', 'way'))\n",
    "x = 'Pele'\n",
    "print(x.replace('e', 'o'))"
   ]
  },
  {
   "cell_type": "markdown",
   "metadata": {},
   "source": [
    "## str.upper() \n",
    "It returns an uppercased copy of string."
   ]
  },
  {
   "cell_type": "code",
   "execution_count": 51,
   "metadata": {},
   "outputs": [
    {
     "name": "stdout",
     "output_type": "stream",
     "text": [
      "AKSHAYU\n"
     ]
    }
   ],
   "source": [
    "print('akshayu'.upper())"
   ]
  },
  {
   "cell_type": "code",
   "execution_count": null,
   "metadata": {},
   "outputs": [],
   "source": []
  },
  {
   "cell_type": "markdown",
   "metadata": {},
   "source": [
    "### NUMPY"
   ]
  },
  {
   "cell_type": "markdown",
   "metadata": {},
   "source": [
    "Numpy  array is python list along with some added features. "
   ]
  },
  {
   "cell_type": "code",
   "execution_count": 270,
   "metadata": {},
   "outputs": [
    {
     "name": "stdout",
     "output_type": "stream",
     "text": [
      "[1 2 3]\n"
     ]
    }
   ],
   "source": [
    "import numpy as np\n",
    "a = np.array([1,2,3]) #One dimentional array\n",
    "print(a)"
   ]
  },
  {
   "cell_type": "code",
   "execution_count": 299,
   "metadata": {},
   "outputs": [
    {
     "name": "stdout",
     "output_type": "stream",
     "text": [
      "[[1 2 3]\n",
      " [4 5 6]]\n",
      "(2, 3)\n"
     ]
    }
   ],
   "source": [
    "import numpy as np\n",
    "b = np.array([[1,2,3], [4,5,6]])   #Two dimentional array\n",
    "print(b)\n",
    "print(b.shape)"
   ]
  },
  {
   "cell_type": "code",
   "execution_count": 298,
   "metadata": {},
   "outputs": [
    {
     "data": {
      "text/plain": [
       "array([5.        , 7.        , 5.22222222, 5.33333333, 5.44444444,\n",
       "       5.55555556, 5.66666667, 5.77777778, 5.88888889, 6.        ])"
      ]
     },
     "execution_count": 298,
     "metadata": {},
     "output_type": "execute_result"
    }
   ],
   "source": [
    "#Numpy array can be mutable(editable) as we creating on list\n",
    "b[1] = 7\n",
    "b"
   ]
  },
  {
   "cell_type": "code",
   "execution_count": 297,
   "metadata": {},
   "outputs": [
    {
     "ename": "IndexError",
     "evalue": "too many indices for array",
     "output_type": "error",
     "traceback": [
      "\u001b[1;31m---------------------------------------------------------------------------\u001b[0m",
      "\u001b[1;31mIndexError\u001b[0m                                Traceback (most recent call last)",
      "\u001b[1;32m<ipython-input-297-29dc11e81457>\u001b[0m in \u001b[0;36m<module>\u001b[1;34m\u001b[0m\n\u001b[1;32m----> 1\u001b[1;33m \u001b[0mb\u001b[0m\u001b[1;33m[\u001b[0m\u001b[1;36m1\u001b[0m\u001b[1;33m,\u001b[0m\u001b[1;36m1\u001b[0m\u001b[1;33m]\u001b[0m \u001b[1;33m=\u001b[0m \u001b[1;36m8\u001b[0m\u001b[1;33m\u001b[0m\u001b[1;33m\u001b[0m\u001b[0m\n\u001b[0m\u001b[0;32m      2\u001b[0m \u001b[0mprint\u001b[0m\u001b[1;33m(\u001b[0m\u001b[0mb\u001b[0m\u001b[1;33m)\u001b[0m\u001b[1;33m\u001b[0m\u001b[1;33m\u001b[0m\u001b[0m\n\u001b[0;32m      3\u001b[0m \u001b[0mprint\u001b[0m\u001b[1;33m(\u001b[0m\u001b[0mb\u001b[0m\u001b[1;33m[\u001b[0m\u001b[1;33m:\u001b[0m\u001b[1;36m0\u001b[0m\u001b[1;33m]\u001b[0m\u001b[1;33m)\u001b[0m\u001b[1;33m\u001b[0m\u001b[1;33m\u001b[0m\u001b[0m\n\u001b[0;32m      4\u001b[0m \u001b[0mprint\u001b[0m\u001b[1;33m(\u001b[0m\u001b[0mb\u001b[0m\u001b[1;33m[\u001b[0m\u001b[1;36m0\u001b[0m\u001b[1;33m:\u001b[0m\u001b[1;33m]\u001b[0m\u001b[1;33m)\u001b[0m\u001b[1;33m\u001b[0m\u001b[1;33m\u001b[0m\u001b[0m\n\u001b[0;32m      5\u001b[0m \u001b[0mprint\u001b[0m\u001b[1;33m(\u001b[0m\u001b[0mb\u001b[0m\u001b[1;33m[\u001b[0m\u001b[1;36m1\u001b[0m\u001b[1;33m:\u001b[0m\u001b[1;33m]\u001b[0m\u001b[1;33m)\u001b[0m\u001b[1;33m\u001b[0m\u001b[1;33m\u001b[0m\u001b[0m\n",
      "\u001b[1;31mIndexError\u001b[0m: too many indices for array"
     ]
    }
   ],
   "source": [
    "b[1,1] = 8\n",
    "print(b)\n",
    "print(b[:0])\n",
    "print(b[0:])\n",
    "print(b[1:])"
   ]
  },
  {
   "cell_type": "markdown",
   "metadata": {},
   "source": [
    "Initializing numpy array"
   ]
  },
  {
   "cell_type": "code",
   "execution_count": 281,
   "metadata": {},
   "outputs": [
    {
     "data": {
      "text/plain": [
       "array([[0., 0., 0., 0.],\n",
       "       [0., 0., 0., 0.],\n",
       "       [0., 0., 0., 0.]])"
      ]
     },
     "execution_count": 281,
     "metadata": {},
     "output_type": "execute_result"
    }
   ],
   "source": [
    "np.zeros((3,4))"
   ]
  },
  {
   "cell_type": "code",
   "execution_count": 285,
   "metadata": {},
   "outputs": [
    {
     "data": {
      "text/plain": [
       "array([10, 15, 20])"
      ]
     },
     "execution_count": 285,
     "metadata": {},
     "output_type": "execute_result"
    }
   ],
   "source": [
    "#np.arange(startnumber, endnumber, interval)\n",
    "np.arange(10,25,5)"
   ]
  },
  {
   "cell_type": "code",
   "execution_count": 286,
   "metadata": {},
   "outputs": [
    {
     "data": {
      "text/plain": [
       "array([0, 2, 4, 6, 8])"
      ]
     },
     "execution_count": 286,
     "metadata": {},
     "output_type": "execute_result"
    }
   ],
   "source": [
    "np.arange(0,10,2)"
   ]
  },
  {
   "cell_type": "markdown",
   "metadata": {},
   "source": [
    "Arranging N numbers between X & Y"
   ]
  },
  {
   "cell_type": "code",
   "execution_count": 295,
   "metadata": {},
   "outputs": [
    {
     "name": "stdout",
     "output_type": "stream",
     "text": [
      "[5.         5.11111111 5.22222222 5.33333333 5.44444444 5.55555556\n",
      " 5.66666667 5.77777778 5.88888889 6.        ]\n",
      "(10,)\n"
     ]
    }
   ],
   "source": [
    "#np.linspace(startnumber, endnumber, noofpoints)\n",
    "b = np.linspace(5,6,10)\n",
    "print(b)\n",
    "print(b.shape)"
   ]
  },
  {
   "cell_type": "code",
   "execution_count": 289,
   "metadata": {},
   "outputs": [
    {
     "name": "stdout",
     "output_type": "stream",
     "text": [
      "[ 5.  6.  7.  8.  9. 10.]\n"
     ]
    }
   ],
   "source": [
    "c = np.linspace(5,10,6)\n",
    "print(c)"
   ]
  },
  {
   "cell_type": "code",
   "execution_count": null,
   "metadata": {},
   "outputs": [],
   "source": [
    "c = np.linspace(5,10,6)\n",
    "print(c)"
   ]
  },
  {
   "cell_type": "markdown",
   "metadata": {},
   "source": [
    "filling same numbers in a array of dimension X, Y"
   ]
  },
  {
   "cell_type": "code",
   "execution_count": 290,
   "metadata": {},
   "outputs": [
    {
     "data": {
      "text/plain": [
       "array([[5, 5],\n",
       "       [5, 5]])"
      ]
     },
     "execution_count": 290,
     "metadata": {},
     "output_type": "execute_result"
    }
   ],
   "source": [
    "np.full((2,2), 5)"
   ]
  },
  {
   "cell_type": "code",
   "execution_count": 291,
   "metadata": {},
   "outputs": [
    {
     "data": {
      "text/plain": [
       "array([[6, 6, 6, 6],\n",
       "       [6, 6, 6, 6]])"
      ]
     },
     "execution_count": 291,
     "metadata": {},
     "output_type": "execute_result"
    }
   ],
   "source": [
    "np.full((2,4), 6)"
   ]
  },
  {
   "cell_type": "markdown",
   "metadata": {},
   "source": [
    "filling random numbers in a array of dimension X,y"
   ]
  },
  {
   "cell_type": "code",
   "execution_count": 9,
   "metadata": {},
   "outputs": [
    {
     "name": "stdout",
     "output_type": "stream",
     "text": [
      "[[0.10914595 0.83006587]\n",
      " [0.22675197 0.24224989]]\n",
      "(2, 2)\n",
      "2\n",
      "float64\n",
      "4\n"
     ]
    }
   ],
   "source": [
    "import numpy as np\n",
    "d = np.random.random((2,2))\n",
    "print(d)\n",
    "print(d.shape)\n",
    "print(d.ndim)   #It returns the dimensions\n",
    "print(d.dtype)  #Returs data type of elements in array,\n",
    "#NOTE: Numpy array contains data of homogeneous types.\n",
    "print(d.size)   #total number of elemnts"
   ]
  },
  {
   "cell_type": "markdown",
   "metadata": {},
   "source": [
    "Maths using Numpy"
   ]
  },
  {
   "cell_type": "code",
   "execution_count": 14,
   "metadata": {},
   "outputs": [
    {
     "data": {
      "text/plain": [
       "30"
      ]
     },
     "execution_count": 14,
     "metadata": {},
     "output_type": "execute_result"
    }
   ],
   "source": [
    "np.sum([10,20])"
   ]
  },
  {
   "cell_type": "code",
   "execution_count": 17,
   "metadata": {},
   "outputs": [
    {
     "name": "stdout",
     "output_type": "stream",
     "text": [
      "30\n"
     ]
    }
   ],
   "source": [
    "a, b = 10,20\n",
    "e = np.sum([a,b])\n",
    "print(e)"
   ]
  },
  {
   "cell_type": "code",
   "execution_count": 18,
   "metadata": {},
   "outputs": [
    {
     "data": {
      "text/plain": [
       "'np.sustract(a,b)\\nnp.divide(a,b)\\nnp.multiply(a,b)\\nnp.exp(a)\\nnp.sqrt(a)\\nnp.sin(a)\\nnp.cos(a)'"
      ]
     },
     "execution_count": 18,
     "metadata": {},
     "output_type": "execute_result"
    }
   ],
   "source": [
    "'''np.sustract(a,b)\n",
    "np.divide(a,b)\n",
    "np.multiply(a,b)\n",
    "np.exp(a)\n",
    "np.sqrt(a)\n",
    "np.sin(a)\n",
    "np.cos(a)'''"
   ]
  },
  {
   "cell_type": "markdown",
   "metadata": {},
   "source": [
    "Array broadcasting"
   ]
  },
  {
   "cell_type": "code",
   "execution_count": 25,
   "metadata": {},
   "outputs": [
    {
     "name": "stdout",
     "output_type": "stream",
     "text": [
      "first array a is :\n",
      " [[ 0  0  0]\n",
      " [10 10 10]\n",
      " [20 20 20]\n",
      " [30 30 30]] \n",
      "\n",
      "Second array b is :\n",
      " [0 1 2] \n",
      "\n",
      "sum of arrays a&b is:\n",
      " [[ 0  1  2]\n",
      " [10 11 12]\n",
      " [20 21 22]\n",
      " [30 31 32]]\n"
     ]
    }
   ],
   "source": [
    "a = np.array([[0,0,0], [10,10,10], [20,20,20], [30,30,30]])\n",
    "b = np.array([0,1,2])\n",
    "print('first array a is :\\n', a, '\\n')\n",
    "print('Second array b is :\\n', b, '\\n')\n",
    "print('sum of arrays a&b is:\\n', a+b)"
   ]
  },
  {
   "cell_type": "code",
   "execution_count": null,
   "metadata": {},
   "outputs": [],
   "source": []
  },
  {
   "cell_type": "code",
   "execution_count": null,
   "metadata": {},
   "outputs": [],
   "source": []
  },
  {
   "cell_type": "code",
   "execution_count": null,
   "metadata": {},
   "outputs": [],
   "source": []
  },
  {
   "cell_type": "markdown",
   "metadata": {},
   "source": [
    "### NLTK(Natural Language Tool Kit)"
   ]
  },
  {
   "cell_type": "code",
   "execution_count": 103,
   "metadata": {},
   "outputs": [
    {
     "name": "stdout",
     "output_type": "stream",
     "text": [
      "showing info https://raw.githubusercontent.com/nltk/nltk_data/gh-pages/index.xml\n"
     ]
    },
    {
     "data": {
      "text/plain": [
       "True"
      ]
     },
     "execution_count": 103,
     "metadata": {},
     "output_type": "execute_result"
    }
   ],
   "source": [
    "import nltk\n",
    "#To install all corpuses present in NLTK\n",
    "nltk.download()"
   ]
  },
  {
   "cell_type": "code",
   "execution_count": 107,
   "metadata": {},
   "outputs": [
    {
     "ename": "LookupError",
     "evalue": "\n**********************************************************************\n  Resource \u001b[93mnames\u001b[0m not found.\n  Please use the NLTK Downloader to obtain the resource:\n\n  \u001b[31m>>> import nltk\n  >>> nltk.download('names')\n  \u001b[0m\n  For more information see: https://www.nltk.org/data.html\n\n  Attempted to load \u001b[93mcorpora/names\u001b[0m\n\n  Searched in:\n    - 'C:\\\\Users\\\\Adinath/nltk_data'\n    - 'C:\\\\Users\\\\Adinath\\\\Anaconda3\\\\nltk_data'\n    - 'C:\\\\Users\\\\Adinath\\\\Anaconda3\\\\share\\\\nltk_data'\n    - 'C:\\\\Users\\\\Adinath\\\\Anaconda3\\\\lib\\\\nltk_data'\n    - 'C:\\\\Users\\\\Adinath\\\\AppData\\\\Roaming\\\\nltk_data'\n    - 'C:\\\\nltk_data'\n    - 'D:\\\\nltk_data'\n    - 'E:\\\\nltk_data'\n**********************************************************************\n",
     "output_type": "error",
     "traceback": [
      "\u001b[1;31m---------------------------------------------------------------------------\u001b[0m",
      "\u001b[1;31mLookupError\u001b[0m                               Traceback (most recent call last)",
      "\u001b[1;32m~\\Anaconda3\\lib\\site-packages\\nltk\\corpus\\util.py\u001b[0m in \u001b[0;36m__load\u001b[1;34m(self)\u001b[0m\n\u001b[0;32m     85\u001b[0m                 \u001b[1;32mtry\u001b[0m\u001b[1;33m:\u001b[0m\u001b[1;33m\u001b[0m\u001b[1;33m\u001b[0m\u001b[0m\n\u001b[1;32m---> 86\u001b[1;33m                     \u001b[0mroot\u001b[0m \u001b[1;33m=\u001b[0m \u001b[0mnltk\u001b[0m\u001b[1;33m.\u001b[0m\u001b[0mdata\u001b[0m\u001b[1;33m.\u001b[0m\u001b[0mfind\u001b[0m\u001b[1;33m(\u001b[0m\u001b[1;34m'{}/{}'\u001b[0m\u001b[1;33m.\u001b[0m\u001b[0mformat\u001b[0m\u001b[1;33m(\u001b[0m\u001b[0mself\u001b[0m\u001b[1;33m.\u001b[0m\u001b[0msubdir\u001b[0m\u001b[1;33m,\u001b[0m \u001b[0mzip_name\u001b[0m\u001b[1;33m)\u001b[0m\u001b[1;33m)\u001b[0m\u001b[1;33m\u001b[0m\u001b[1;33m\u001b[0m\u001b[0m\n\u001b[0m\u001b[0;32m     87\u001b[0m                 \u001b[1;32mexcept\u001b[0m \u001b[0mLookupError\u001b[0m\u001b[1;33m:\u001b[0m\u001b[1;33m\u001b[0m\u001b[1;33m\u001b[0m\u001b[0m\n",
      "\u001b[1;32m~\\Anaconda3\\lib\\site-packages\\nltk\\data.py\u001b[0m in \u001b[0;36mfind\u001b[1;34m(resource_name, paths)\u001b[0m\n\u001b[0;32m    700\u001b[0m     \u001b[0mresource_not_found\u001b[0m \u001b[1;33m=\u001b[0m \u001b[1;34m'\\n%s\\n%s\\n%s\\n'\u001b[0m \u001b[1;33m%\u001b[0m \u001b[1;33m(\u001b[0m\u001b[0msep\u001b[0m\u001b[1;33m,\u001b[0m \u001b[0mmsg\u001b[0m\u001b[1;33m,\u001b[0m \u001b[0msep\u001b[0m\u001b[1;33m)\u001b[0m\u001b[1;33m\u001b[0m\u001b[1;33m\u001b[0m\u001b[0m\n\u001b[1;32m--> 701\u001b[1;33m     \u001b[1;32mraise\u001b[0m \u001b[0mLookupError\u001b[0m\u001b[1;33m(\u001b[0m\u001b[0mresource_not_found\u001b[0m\u001b[1;33m)\u001b[0m\u001b[1;33m\u001b[0m\u001b[1;33m\u001b[0m\u001b[0m\n\u001b[0m\u001b[0;32m    702\u001b[0m \u001b[1;33m\u001b[0m\u001b[0m\n",
      "\u001b[1;31mLookupError\u001b[0m: \n**********************************************************************\n  Resource \u001b[93mnames\u001b[0m not found.\n  Please use the NLTK Downloader to obtain the resource:\n\n  \u001b[31m>>> import nltk\n  >>> nltk.download('names')\n  \u001b[0m\n  For more information see: https://www.nltk.org/data.html\n\n  Attempted to load \u001b[93mcorpora/names.zip/names/\u001b[0m\n\n  Searched in:\n    - 'C:\\\\Users\\\\Adinath/nltk_data'\n    - 'C:\\\\Users\\\\Adinath\\\\Anaconda3\\\\nltk_data'\n    - 'C:\\\\Users\\\\Adinath\\\\Anaconda3\\\\share\\\\nltk_data'\n    - 'C:\\\\Users\\\\Adinath\\\\Anaconda3\\\\lib\\\\nltk_data'\n    - 'C:\\\\Users\\\\Adinath\\\\AppData\\\\Roaming\\\\nltk_data'\n    - 'C:\\\\nltk_data'\n    - 'D:\\\\nltk_data'\n    - 'E:\\\\nltk_data'\n**********************************************************************\n",
      "\nDuring handling of the above exception, another exception occurred:\n",
      "\u001b[1;31mLookupError\u001b[0m                               Traceback (most recent call last)",
      "\u001b[1;32m<ipython-input-107-264e7a0ffcc1>\u001b[0m in \u001b[0;36m<module>\u001b[1;34m\u001b[0m\n\u001b[0;32m      1\u001b[0m \u001b[1;32mfrom\u001b[0m \u001b[0mnltk\u001b[0m\u001b[1;33m.\u001b[0m\u001b[0mcorpus\u001b[0m \u001b[1;32mimport\u001b[0m \u001b[0mnames\u001b[0m\u001b[1;33m\u001b[0m\u001b[1;33m\u001b[0m\u001b[0m\n\u001b[1;32m----> 2\u001b[1;33m \u001b[0mnames\u001b[0m\u001b[1;33m.\u001b[0m\u001b[0mwords\u001b[0m\u001b[1;33m(\u001b[0m\u001b[1;33m)\u001b[0m\u001b[1;33m\u001b[0m\u001b[1;33m\u001b[0m\u001b[0m\n\u001b[0m",
      "\u001b[1;32m~\\Anaconda3\\lib\\site-packages\\nltk\\corpus\\util.py\u001b[0m in \u001b[0;36m__getattr__\u001b[1;34m(self, attr)\u001b[0m\n\u001b[0;32m    121\u001b[0m             \u001b[1;32mraise\u001b[0m \u001b[0mAttributeError\u001b[0m\u001b[1;33m(\u001b[0m\u001b[1;34m\"LazyCorpusLoader object has no attribute '__bases__'\"\u001b[0m\u001b[1;33m)\u001b[0m\u001b[1;33m\u001b[0m\u001b[1;33m\u001b[0m\u001b[0m\n\u001b[0;32m    122\u001b[0m \u001b[1;33m\u001b[0m\u001b[0m\n\u001b[1;32m--> 123\u001b[1;33m         \u001b[0mself\u001b[0m\u001b[1;33m.\u001b[0m\u001b[0m__load\u001b[0m\u001b[1;33m(\u001b[0m\u001b[1;33m)\u001b[0m\u001b[1;33m\u001b[0m\u001b[1;33m\u001b[0m\u001b[0m\n\u001b[0m\u001b[0;32m    124\u001b[0m         \u001b[1;31m# This looks circular, but its not, since __load() changes our\u001b[0m\u001b[1;33m\u001b[0m\u001b[1;33m\u001b[0m\u001b[1;33m\u001b[0m\u001b[0m\n\u001b[0;32m    125\u001b[0m         \u001b[1;31m# __class__ to something new:\u001b[0m\u001b[1;33m\u001b[0m\u001b[1;33m\u001b[0m\u001b[1;33m\u001b[0m\u001b[0m\n",
      "\u001b[1;32m~\\Anaconda3\\lib\\site-packages\\nltk\\corpus\\util.py\u001b[0m in \u001b[0;36m__load\u001b[1;34m(self)\u001b[0m\n\u001b[0;32m     86\u001b[0m                     \u001b[0mroot\u001b[0m \u001b[1;33m=\u001b[0m \u001b[0mnltk\u001b[0m\u001b[1;33m.\u001b[0m\u001b[0mdata\u001b[0m\u001b[1;33m.\u001b[0m\u001b[0mfind\u001b[0m\u001b[1;33m(\u001b[0m\u001b[1;34m'{}/{}'\u001b[0m\u001b[1;33m.\u001b[0m\u001b[0mformat\u001b[0m\u001b[1;33m(\u001b[0m\u001b[0mself\u001b[0m\u001b[1;33m.\u001b[0m\u001b[0msubdir\u001b[0m\u001b[1;33m,\u001b[0m \u001b[0mzip_name\u001b[0m\u001b[1;33m)\u001b[0m\u001b[1;33m)\u001b[0m\u001b[1;33m\u001b[0m\u001b[1;33m\u001b[0m\u001b[0m\n\u001b[0;32m     87\u001b[0m                 \u001b[1;32mexcept\u001b[0m \u001b[0mLookupError\u001b[0m\u001b[1;33m:\u001b[0m\u001b[1;33m\u001b[0m\u001b[1;33m\u001b[0m\u001b[0m\n\u001b[1;32m---> 88\u001b[1;33m                     \u001b[1;32mraise\u001b[0m \u001b[0me\u001b[0m\u001b[1;33m\u001b[0m\u001b[1;33m\u001b[0m\u001b[0m\n\u001b[0m\u001b[0;32m     89\u001b[0m \u001b[1;33m\u001b[0m\u001b[0m\n\u001b[0;32m     90\u001b[0m         \u001b[1;31m# Load the corpus.\u001b[0m\u001b[1;33m\u001b[0m\u001b[1;33m\u001b[0m\u001b[1;33m\u001b[0m\u001b[0m\n",
      "\u001b[1;32m~\\Anaconda3\\lib\\site-packages\\nltk\\corpus\\util.py\u001b[0m in \u001b[0;36m__load\u001b[1;34m(self)\u001b[0m\n\u001b[0;32m     81\u001b[0m         \u001b[1;32melse\u001b[0m\u001b[1;33m:\u001b[0m\u001b[1;33m\u001b[0m\u001b[1;33m\u001b[0m\u001b[0m\n\u001b[0;32m     82\u001b[0m             \u001b[1;32mtry\u001b[0m\u001b[1;33m:\u001b[0m\u001b[1;33m\u001b[0m\u001b[1;33m\u001b[0m\u001b[0m\n\u001b[1;32m---> 83\u001b[1;33m                 \u001b[0mroot\u001b[0m \u001b[1;33m=\u001b[0m \u001b[0mnltk\u001b[0m\u001b[1;33m.\u001b[0m\u001b[0mdata\u001b[0m\u001b[1;33m.\u001b[0m\u001b[0mfind\u001b[0m\u001b[1;33m(\u001b[0m\u001b[1;34m'{}/{}'\u001b[0m\u001b[1;33m.\u001b[0m\u001b[0mformat\u001b[0m\u001b[1;33m(\u001b[0m\u001b[0mself\u001b[0m\u001b[1;33m.\u001b[0m\u001b[0msubdir\u001b[0m\u001b[1;33m,\u001b[0m \u001b[0mself\u001b[0m\u001b[1;33m.\u001b[0m\u001b[0m__name\u001b[0m\u001b[1;33m)\u001b[0m\u001b[1;33m)\u001b[0m\u001b[1;33m\u001b[0m\u001b[1;33m\u001b[0m\u001b[0m\n\u001b[0m\u001b[0;32m     84\u001b[0m             \u001b[1;32mexcept\u001b[0m \u001b[0mLookupError\u001b[0m \u001b[1;32mas\u001b[0m \u001b[0me\u001b[0m\u001b[1;33m:\u001b[0m\u001b[1;33m\u001b[0m\u001b[1;33m\u001b[0m\u001b[0m\n\u001b[0;32m     85\u001b[0m                 \u001b[1;32mtry\u001b[0m\u001b[1;33m:\u001b[0m\u001b[1;33m\u001b[0m\u001b[1;33m\u001b[0m\u001b[0m\n",
      "\u001b[1;32m~\\Anaconda3\\lib\\site-packages\\nltk\\data.py\u001b[0m in \u001b[0;36mfind\u001b[1;34m(resource_name, paths)\u001b[0m\n\u001b[0;32m    699\u001b[0m     \u001b[0msep\u001b[0m \u001b[1;33m=\u001b[0m \u001b[1;34m'*'\u001b[0m \u001b[1;33m*\u001b[0m \u001b[1;36m70\u001b[0m\u001b[1;33m\u001b[0m\u001b[1;33m\u001b[0m\u001b[0m\n\u001b[0;32m    700\u001b[0m     \u001b[0mresource_not_found\u001b[0m \u001b[1;33m=\u001b[0m \u001b[1;34m'\\n%s\\n%s\\n%s\\n'\u001b[0m \u001b[1;33m%\u001b[0m \u001b[1;33m(\u001b[0m\u001b[0msep\u001b[0m\u001b[1;33m,\u001b[0m \u001b[0mmsg\u001b[0m\u001b[1;33m,\u001b[0m \u001b[0msep\u001b[0m\u001b[1;33m)\u001b[0m\u001b[1;33m\u001b[0m\u001b[1;33m\u001b[0m\u001b[0m\n\u001b[1;32m--> 701\u001b[1;33m     \u001b[1;32mraise\u001b[0m \u001b[0mLookupError\u001b[0m\u001b[1;33m(\u001b[0m\u001b[0mresource_not_found\u001b[0m\u001b[1;33m)\u001b[0m\u001b[1;33m\u001b[0m\u001b[1;33m\u001b[0m\u001b[0m\n\u001b[0m\u001b[0;32m    702\u001b[0m \u001b[1;33m\u001b[0m\u001b[0m\n\u001b[0;32m    703\u001b[0m \u001b[1;33m\u001b[0m\u001b[0m\n",
      "\u001b[1;31mLookupError\u001b[0m: \n**********************************************************************\n  Resource \u001b[93mnames\u001b[0m not found.\n  Please use the NLTK Downloader to obtain the resource:\n\n  \u001b[31m>>> import nltk\n  >>> nltk.download('names')\n  \u001b[0m\n  For more information see: https://www.nltk.org/data.html\n\n  Attempted to load \u001b[93mcorpora/names\u001b[0m\n\n  Searched in:\n    - 'C:\\\\Users\\\\Adinath/nltk_data'\n    - 'C:\\\\Users\\\\Adinath\\\\Anaconda3\\\\nltk_data'\n    - 'C:\\\\Users\\\\Adinath\\\\Anaconda3\\\\share\\\\nltk_data'\n    - 'C:\\\\Users\\\\Adinath\\\\Anaconda3\\\\lib\\\\nltk_data'\n    - 'C:\\\\Users\\\\Adinath\\\\AppData\\\\Roaming\\\\nltk_data'\n    - 'C:\\\\nltk_data'\n    - 'D:\\\\nltk_data'\n    - 'E:\\\\nltk_data'\n**********************************************************************\n"
     ]
    }
   ],
   "source": [
    "from nltk.corpus import names\n",
    "names.words()"
   ]
  },
  {
   "cell_type": "code",
   "execution_count": null,
   "metadata": {},
   "outputs": [],
   "source": []
  },
  {
   "cell_type": "code",
   "execution_count": null,
   "metadata": {},
   "outputs": [],
   "source": []
  }
 ],
 "metadata": {
  "kernelspec": {
   "display_name": "Python 3",
   "language": "python",
   "name": "python3"
  },
  "language_info": {
   "codemirror_mode": {
    "name": "ipython",
    "version": 3
   },
   "file_extension": ".py",
   "mimetype": "text/x-python",
   "name": "python",
   "nbconvert_exporter": "python",
   "pygments_lexer": "ipython3",
   "version": "3.7.4"
  }
 },
 "nbformat": 4,
 "nbformat_minor": 2
}
